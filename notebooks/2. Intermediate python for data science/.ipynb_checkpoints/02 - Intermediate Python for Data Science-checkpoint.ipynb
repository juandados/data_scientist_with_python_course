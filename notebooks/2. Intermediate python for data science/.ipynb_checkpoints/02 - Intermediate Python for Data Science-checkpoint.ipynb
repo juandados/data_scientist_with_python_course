{
 "cells": [
  {
   "cell_type": "markdown",
   "metadata": {
    "slideshow": {
     "slide_type": "slide"
    }
   },
   "source": [
    "# __Intro__\n",
    "Some comments about: \n",
    "* __nbextensions:__<br>\n",
    "!conda install -c conda-forge jupyter_nbextensions_configurator<br>\n",
    "!conda install -c conda-forge jupyter_contrib_nbextensions<br>\n",
    "* __jupyter beamer:__<br>\n",
    "!jupyter-nbconvert --to slides \"Intermediate Python for Data Science 1.ipynb\" --post serve"
   ]
  },
  {
   "cell_type": "markdown",
   "metadata": {
    "slideshow": {
     "slide_type": "slide"
    }
   },
   "source": [
    "# Matplotlib\n",
    "There are some different type of charts and graphs which can be made using matplotlib. Among them:\n",
    "* line plot\n",
    "* scatter plot\n",
    "* histograms."
   ]
  },
  {
   "cell_type": "markdown",
   "metadata": {
    "slideshow": {
     "slide_type": "slide"
    }
   },
   "source": [
    "## A brief example\n",
    "### Plot line"
   ]
  },
  {
   "cell_type": "code",
   "execution_count": 1,
   "metadata": {
    "code_folding": [],
    "slideshow": {
     "slide_type": "fragment"
    }
   },
   "outputs": [
    {
     "data": {
      "application/javascript": [
       "/* Put everything inside the global mpl namespace */\n",
       "window.mpl = {};\n",
       "\n",
       "\n",
       "mpl.get_websocket_type = function() {\n",
       "    if (typeof(WebSocket) !== 'undefined') {\n",
       "        return WebSocket;\n",
       "    } else if (typeof(MozWebSocket) !== 'undefined') {\n",
       "        return MozWebSocket;\n",
       "    } else {\n",
       "        alert('Your browser does not have WebSocket support.' +\n",
       "              'Please try Chrome, Safari or Firefox ≥ 6. ' +\n",
       "              'Firefox 4 and 5 are also supported but you ' +\n",
       "              'have to enable WebSockets in about:config.');\n",
       "    };\n",
       "}\n",
       "\n",
       "mpl.figure = function(figure_id, websocket, ondownload, parent_element) {\n",
       "    this.id = figure_id;\n",
       "\n",
       "    this.ws = websocket;\n",
       "\n",
       "    this.supports_binary = (this.ws.binaryType != undefined);\n",
       "\n",
       "    if (!this.supports_binary) {\n",
       "        var warnings = document.getElementById(\"mpl-warnings\");\n",
       "        if (warnings) {\n",
       "            warnings.style.display = 'block';\n",
       "            warnings.textContent = (\n",
       "                \"This browser does not support binary websocket messages. \" +\n",
       "                    \"Performance may be slow.\");\n",
       "        }\n",
       "    }\n",
       "\n",
       "    this.imageObj = new Image();\n",
       "\n",
       "    this.context = undefined;\n",
       "    this.message = undefined;\n",
       "    this.canvas = undefined;\n",
       "    this.rubberband_canvas = undefined;\n",
       "    this.rubberband_context = undefined;\n",
       "    this.format_dropdown = undefined;\n",
       "\n",
       "    this.image_mode = 'full';\n",
       "\n",
       "    this.root = $('<div/>');\n",
       "    this._root_extra_style(this.root)\n",
       "    this.root.attr('style', 'display: inline-block');\n",
       "\n",
       "    $(parent_element).append(this.root);\n",
       "\n",
       "    this._init_header(this);\n",
       "    this._init_canvas(this);\n",
       "    this._init_toolbar(this);\n",
       "\n",
       "    var fig = this;\n",
       "\n",
       "    this.waiting = false;\n",
       "\n",
       "    this.ws.onopen =  function () {\n",
       "            fig.send_message(\"supports_binary\", {value: fig.supports_binary});\n",
       "            fig.send_message(\"send_image_mode\", {});\n",
       "            if (mpl.ratio != 1) {\n",
       "                fig.send_message(\"set_dpi_ratio\", {'dpi_ratio': mpl.ratio});\n",
       "            }\n",
       "            fig.send_message(\"refresh\", {});\n",
       "        }\n",
       "\n",
       "    this.imageObj.onload = function() {\n",
       "            if (fig.image_mode == 'full') {\n",
       "                // Full images could contain transparency (where diff images\n",
       "                // almost always do), so we need to clear the canvas so that\n",
       "                // there is no ghosting.\n",
       "                fig.context.clearRect(0, 0, fig.canvas.width, fig.canvas.height);\n",
       "            }\n",
       "            fig.context.drawImage(fig.imageObj, 0, 0);\n",
       "        };\n",
       "\n",
       "    this.imageObj.onunload = function() {\n",
       "        this.ws.close();\n",
       "    }\n",
       "\n",
       "    this.ws.onmessage = this._make_on_message_function(this);\n",
       "\n",
       "    this.ondownload = ondownload;\n",
       "}\n",
       "\n",
       "mpl.figure.prototype._init_header = function() {\n",
       "    var titlebar = $(\n",
       "        '<div class=\"ui-dialog-titlebar ui-widget-header ui-corner-all ' +\n",
       "        'ui-helper-clearfix\"/>');\n",
       "    var titletext = $(\n",
       "        '<div class=\"ui-dialog-title\" style=\"width: 100%; ' +\n",
       "        'text-align: center; padding: 3px;\"/>');\n",
       "    titlebar.append(titletext)\n",
       "    this.root.append(titlebar);\n",
       "    this.header = titletext[0];\n",
       "}\n",
       "\n",
       "\n",
       "\n",
       "mpl.figure.prototype._canvas_extra_style = function(canvas_div) {\n",
       "\n",
       "}\n",
       "\n",
       "\n",
       "mpl.figure.prototype._root_extra_style = function(canvas_div) {\n",
       "\n",
       "}\n",
       "\n",
       "mpl.figure.prototype._init_canvas = function() {\n",
       "    var fig = this;\n",
       "\n",
       "    var canvas_div = $('<div/>');\n",
       "\n",
       "    canvas_div.attr('style', 'position: relative; clear: both; outline: 0');\n",
       "\n",
       "    function canvas_keyboard_event(event) {\n",
       "        return fig.key_event(event, event['data']);\n",
       "    }\n",
       "\n",
       "    canvas_div.keydown('key_press', canvas_keyboard_event);\n",
       "    canvas_div.keyup('key_release', canvas_keyboard_event);\n",
       "    this.canvas_div = canvas_div\n",
       "    this._canvas_extra_style(canvas_div)\n",
       "    this.root.append(canvas_div);\n",
       "\n",
       "    var canvas = $('<canvas/>');\n",
       "    canvas.addClass('mpl-canvas');\n",
       "    canvas.attr('style', \"left: 0; top: 0; z-index: 0; outline: 0\")\n",
       "\n",
       "    this.canvas = canvas[0];\n",
       "    this.context = canvas[0].getContext(\"2d\");\n",
       "\n",
       "    var backingStore = this.context.backingStorePixelRatio ||\n",
       "\tthis.context.webkitBackingStorePixelRatio ||\n",
       "\tthis.context.mozBackingStorePixelRatio ||\n",
       "\tthis.context.msBackingStorePixelRatio ||\n",
       "\tthis.context.oBackingStorePixelRatio ||\n",
       "\tthis.context.backingStorePixelRatio || 1;\n",
       "\n",
       "    mpl.ratio = (window.devicePixelRatio || 1) / backingStore;\n",
       "\n",
       "    var rubberband = $('<canvas/>');\n",
       "    rubberband.attr('style', \"position: absolute; left: 0; top: 0; z-index: 1;\")\n",
       "\n",
       "    var pass_mouse_events = true;\n",
       "\n",
       "    canvas_div.resizable({\n",
       "        start: function(event, ui) {\n",
       "            pass_mouse_events = false;\n",
       "        },\n",
       "        resize: function(event, ui) {\n",
       "            fig.request_resize(ui.size.width, ui.size.height);\n",
       "        },\n",
       "        stop: function(event, ui) {\n",
       "            pass_mouse_events = true;\n",
       "            fig.request_resize(ui.size.width, ui.size.height);\n",
       "        },\n",
       "    });\n",
       "\n",
       "    function mouse_event_fn(event) {\n",
       "        if (pass_mouse_events)\n",
       "            return fig.mouse_event(event, event['data']);\n",
       "    }\n",
       "\n",
       "    rubberband.mousedown('button_press', mouse_event_fn);\n",
       "    rubberband.mouseup('button_release', mouse_event_fn);\n",
       "    // Throttle sequential mouse events to 1 every 20ms.\n",
       "    rubberband.mousemove('motion_notify', mouse_event_fn);\n",
       "\n",
       "    rubberband.mouseenter('figure_enter', mouse_event_fn);\n",
       "    rubberband.mouseleave('figure_leave', mouse_event_fn);\n",
       "\n",
       "    canvas_div.on(\"wheel\", function (event) {\n",
       "        event = event.originalEvent;\n",
       "        event['data'] = 'scroll'\n",
       "        if (event.deltaY < 0) {\n",
       "            event.step = 1;\n",
       "        } else {\n",
       "            event.step = -1;\n",
       "        }\n",
       "        mouse_event_fn(event);\n",
       "    });\n",
       "\n",
       "    canvas_div.append(canvas);\n",
       "    canvas_div.append(rubberband);\n",
       "\n",
       "    this.rubberband = rubberband;\n",
       "    this.rubberband_canvas = rubberband[0];\n",
       "    this.rubberband_context = rubberband[0].getContext(\"2d\");\n",
       "    this.rubberband_context.strokeStyle = \"#000000\";\n",
       "\n",
       "    this._resize_canvas = function(width, height) {\n",
       "        // Keep the size of the canvas, canvas container, and rubber band\n",
       "        // canvas in synch.\n",
       "        canvas_div.css('width', width)\n",
       "        canvas_div.css('height', height)\n",
       "\n",
       "        canvas.attr('width', width * mpl.ratio);\n",
       "        canvas.attr('height', height * mpl.ratio);\n",
       "        canvas.attr('style', 'width: ' + width + 'px; height: ' + height + 'px;');\n",
       "\n",
       "        rubberband.attr('width', width);\n",
       "        rubberband.attr('height', height);\n",
       "    }\n",
       "\n",
       "    // Set the figure to an initial 600x600px, this will subsequently be updated\n",
       "    // upon first draw.\n",
       "    this._resize_canvas(600, 600);\n",
       "\n",
       "    // Disable right mouse context menu.\n",
       "    $(this.rubberband_canvas).bind(\"contextmenu\",function(e){\n",
       "        return false;\n",
       "    });\n",
       "\n",
       "    function set_focus () {\n",
       "        canvas.focus();\n",
       "        canvas_div.focus();\n",
       "    }\n",
       "\n",
       "    window.setTimeout(set_focus, 100);\n",
       "}\n",
       "\n",
       "mpl.figure.prototype._init_toolbar = function() {\n",
       "    var fig = this;\n",
       "\n",
       "    var nav_element = $('<div/>')\n",
       "    nav_element.attr('style', 'width: 100%');\n",
       "    this.root.append(nav_element);\n",
       "\n",
       "    // Define a callback function for later on.\n",
       "    function toolbar_event(event) {\n",
       "        return fig.toolbar_button_onclick(event['data']);\n",
       "    }\n",
       "    function toolbar_mouse_event(event) {\n",
       "        return fig.toolbar_button_onmouseover(event['data']);\n",
       "    }\n",
       "\n",
       "    for(var toolbar_ind in mpl.toolbar_items) {\n",
       "        var name = mpl.toolbar_items[toolbar_ind][0];\n",
       "        var tooltip = mpl.toolbar_items[toolbar_ind][1];\n",
       "        var image = mpl.toolbar_items[toolbar_ind][2];\n",
       "        var method_name = mpl.toolbar_items[toolbar_ind][3];\n",
       "\n",
       "        if (!name) {\n",
       "            // put a spacer in here.\n",
       "            continue;\n",
       "        }\n",
       "        var button = $('<button/>');\n",
       "        button.addClass('ui-button ui-widget ui-state-default ui-corner-all ' +\n",
       "                        'ui-button-icon-only');\n",
       "        button.attr('role', 'button');\n",
       "        button.attr('aria-disabled', 'false');\n",
       "        button.click(method_name, toolbar_event);\n",
       "        button.mouseover(tooltip, toolbar_mouse_event);\n",
       "\n",
       "        var icon_img = $('<span/>');\n",
       "        icon_img.addClass('ui-button-icon-primary ui-icon');\n",
       "        icon_img.addClass(image);\n",
       "        icon_img.addClass('ui-corner-all');\n",
       "\n",
       "        var tooltip_span = $('<span/>');\n",
       "        tooltip_span.addClass('ui-button-text');\n",
       "        tooltip_span.html(tooltip);\n",
       "\n",
       "        button.append(icon_img);\n",
       "        button.append(tooltip_span);\n",
       "\n",
       "        nav_element.append(button);\n",
       "    }\n",
       "\n",
       "    var fmt_picker_span = $('<span/>');\n",
       "\n",
       "    var fmt_picker = $('<select/>');\n",
       "    fmt_picker.addClass('mpl-toolbar-option ui-widget ui-widget-content');\n",
       "    fmt_picker_span.append(fmt_picker);\n",
       "    nav_element.append(fmt_picker_span);\n",
       "    this.format_dropdown = fmt_picker[0];\n",
       "\n",
       "    for (var ind in mpl.extensions) {\n",
       "        var fmt = mpl.extensions[ind];\n",
       "        var option = $(\n",
       "            '<option/>', {selected: fmt === mpl.default_extension}).html(fmt);\n",
       "        fmt_picker.append(option)\n",
       "    }\n",
       "\n",
       "    // Add hover states to the ui-buttons\n",
       "    $( \".ui-button\" ).hover(\n",
       "        function() { $(this).addClass(\"ui-state-hover\");},\n",
       "        function() { $(this).removeClass(\"ui-state-hover\");}\n",
       "    );\n",
       "\n",
       "    var status_bar = $('<span class=\"mpl-message\"/>');\n",
       "    nav_element.append(status_bar);\n",
       "    this.message = status_bar[0];\n",
       "}\n",
       "\n",
       "mpl.figure.prototype.request_resize = function(x_pixels, y_pixels) {\n",
       "    // Request matplotlib to resize the figure. Matplotlib will then trigger a resize in the client,\n",
       "    // which will in turn request a refresh of the image.\n",
       "    this.send_message('resize', {'width': x_pixels, 'height': y_pixels});\n",
       "}\n",
       "\n",
       "mpl.figure.prototype.send_message = function(type, properties) {\n",
       "    properties['type'] = type;\n",
       "    properties['figure_id'] = this.id;\n",
       "    this.ws.send(JSON.stringify(properties));\n",
       "}\n",
       "\n",
       "mpl.figure.prototype.send_draw_message = function() {\n",
       "    if (!this.waiting) {\n",
       "        this.waiting = true;\n",
       "        this.ws.send(JSON.stringify({type: \"draw\", figure_id: this.id}));\n",
       "    }\n",
       "}\n",
       "\n",
       "\n",
       "mpl.figure.prototype.handle_save = function(fig, msg) {\n",
       "    var format_dropdown = fig.format_dropdown;\n",
       "    var format = format_dropdown.options[format_dropdown.selectedIndex].value;\n",
       "    fig.ondownload(fig, format);\n",
       "}\n",
       "\n",
       "\n",
       "mpl.figure.prototype.handle_resize = function(fig, msg) {\n",
       "    var size = msg['size'];\n",
       "    if (size[0] != fig.canvas.width || size[1] != fig.canvas.height) {\n",
       "        fig._resize_canvas(size[0], size[1]);\n",
       "        fig.send_message(\"refresh\", {});\n",
       "    };\n",
       "}\n",
       "\n",
       "mpl.figure.prototype.handle_rubberband = function(fig, msg) {\n",
       "    var x0 = msg['x0'] / mpl.ratio;\n",
       "    var y0 = (fig.canvas.height - msg['y0']) / mpl.ratio;\n",
       "    var x1 = msg['x1'] / mpl.ratio;\n",
       "    var y1 = (fig.canvas.height - msg['y1']) / mpl.ratio;\n",
       "    x0 = Math.floor(x0) + 0.5;\n",
       "    y0 = Math.floor(y0) + 0.5;\n",
       "    x1 = Math.floor(x1) + 0.5;\n",
       "    y1 = Math.floor(y1) + 0.5;\n",
       "    var min_x = Math.min(x0, x1);\n",
       "    var min_y = Math.min(y0, y1);\n",
       "    var width = Math.abs(x1 - x0);\n",
       "    var height = Math.abs(y1 - y0);\n",
       "\n",
       "    fig.rubberband_context.clearRect(\n",
       "        0, 0, fig.canvas.width, fig.canvas.height);\n",
       "\n",
       "    fig.rubberband_context.strokeRect(min_x, min_y, width, height);\n",
       "}\n",
       "\n",
       "mpl.figure.prototype.handle_figure_label = function(fig, msg) {\n",
       "    // Updates the figure title.\n",
       "    fig.header.textContent = msg['label'];\n",
       "}\n",
       "\n",
       "mpl.figure.prototype.handle_cursor = function(fig, msg) {\n",
       "    var cursor = msg['cursor'];\n",
       "    switch(cursor)\n",
       "    {\n",
       "    case 0:\n",
       "        cursor = 'pointer';\n",
       "        break;\n",
       "    case 1:\n",
       "        cursor = 'default';\n",
       "        break;\n",
       "    case 2:\n",
       "        cursor = 'crosshair';\n",
       "        break;\n",
       "    case 3:\n",
       "        cursor = 'move';\n",
       "        break;\n",
       "    }\n",
       "    fig.rubberband_canvas.style.cursor = cursor;\n",
       "}\n",
       "\n",
       "mpl.figure.prototype.handle_message = function(fig, msg) {\n",
       "    fig.message.textContent = msg['message'];\n",
       "}\n",
       "\n",
       "mpl.figure.prototype.handle_draw = function(fig, msg) {\n",
       "    // Request the server to send over a new figure.\n",
       "    fig.send_draw_message();\n",
       "}\n",
       "\n",
       "mpl.figure.prototype.handle_image_mode = function(fig, msg) {\n",
       "    fig.image_mode = msg['mode'];\n",
       "}\n",
       "\n",
       "mpl.figure.prototype.updated_canvas_event = function() {\n",
       "    // Called whenever the canvas gets updated.\n",
       "    this.send_message(\"ack\", {});\n",
       "}\n",
       "\n",
       "// A function to construct a web socket function for onmessage handling.\n",
       "// Called in the figure constructor.\n",
       "mpl.figure.prototype._make_on_message_function = function(fig) {\n",
       "    return function socket_on_message(evt) {\n",
       "        if (evt.data instanceof Blob) {\n",
       "            /* FIXME: We get \"Resource interpreted as Image but\n",
       "             * transferred with MIME type text/plain:\" errors on\n",
       "             * Chrome.  But how to set the MIME type?  It doesn't seem\n",
       "             * to be part of the websocket stream */\n",
       "            evt.data.type = \"image/png\";\n",
       "\n",
       "            /* Free the memory for the previous frames */\n",
       "            if (fig.imageObj.src) {\n",
       "                (window.URL || window.webkitURL).revokeObjectURL(\n",
       "                    fig.imageObj.src);\n",
       "            }\n",
       "\n",
       "            fig.imageObj.src = (window.URL || window.webkitURL).createObjectURL(\n",
       "                evt.data);\n",
       "            fig.updated_canvas_event();\n",
       "            fig.waiting = false;\n",
       "            return;\n",
       "        }\n",
       "        else if (typeof evt.data === 'string' && evt.data.slice(0, 21) == \"data:image/png;base64\") {\n",
       "            fig.imageObj.src = evt.data;\n",
       "            fig.updated_canvas_event();\n",
       "            fig.waiting = false;\n",
       "            return;\n",
       "        }\n",
       "\n",
       "        var msg = JSON.parse(evt.data);\n",
       "        var msg_type = msg['type'];\n",
       "\n",
       "        // Call the  \"handle_{type}\" callback, which takes\n",
       "        // the figure and JSON message as its only arguments.\n",
       "        try {\n",
       "            var callback = fig[\"handle_\" + msg_type];\n",
       "        } catch (e) {\n",
       "            console.log(\"No handler for the '\" + msg_type + \"' message type: \", msg);\n",
       "            return;\n",
       "        }\n",
       "\n",
       "        if (callback) {\n",
       "            try {\n",
       "                // console.log(\"Handling '\" + msg_type + \"' message: \", msg);\n",
       "                callback(fig, msg);\n",
       "            } catch (e) {\n",
       "                console.log(\"Exception inside the 'handler_\" + msg_type + \"' callback:\", e, e.stack, msg);\n",
       "            }\n",
       "        }\n",
       "    };\n",
       "}\n",
       "\n",
       "// from http://stackoverflow.com/questions/1114465/getting-mouse-location-in-canvas\n",
       "mpl.findpos = function(e) {\n",
       "    //this section is from http://www.quirksmode.org/js/events_properties.html\n",
       "    var targ;\n",
       "    if (!e)\n",
       "        e = window.event;\n",
       "    if (e.target)\n",
       "        targ = e.target;\n",
       "    else if (e.srcElement)\n",
       "        targ = e.srcElement;\n",
       "    if (targ.nodeType == 3) // defeat Safari bug\n",
       "        targ = targ.parentNode;\n",
       "\n",
       "    // jQuery normalizes the pageX and pageY\n",
       "    // pageX,Y are the mouse positions relative to the document\n",
       "    // offset() returns the position of the element relative to the document\n",
       "    var x = e.pageX - $(targ).offset().left;\n",
       "    var y = e.pageY - $(targ).offset().top;\n",
       "\n",
       "    return {\"x\": x, \"y\": y};\n",
       "};\n",
       "\n",
       "/*\n",
       " * return a copy of an object with only non-object keys\n",
       " * we need this to avoid circular references\n",
       " * http://stackoverflow.com/a/24161582/3208463\n",
       " */\n",
       "function simpleKeys (original) {\n",
       "  return Object.keys(original).reduce(function (obj, key) {\n",
       "    if (typeof original[key] !== 'object')\n",
       "        obj[key] = original[key]\n",
       "    return obj;\n",
       "  }, {});\n",
       "}\n",
       "\n",
       "mpl.figure.prototype.mouse_event = function(event, name) {\n",
       "    var canvas_pos = mpl.findpos(event)\n",
       "\n",
       "    if (name === 'button_press')\n",
       "    {\n",
       "        this.canvas.focus();\n",
       "        this.canvas_div.focus();\n",
       "    }\n",
       "\n",
       "    var x = canvas_pos.x * mpl.ratio;\n",
       "    var y = canvas_pos.y * mpl.ratio;\n",
       "\n",
       "    this.send_message(name, {x: x, y: y, button: event.button,\n",
       "                             step: event.step,\n",
       "                             guiEvent: simpleKeys(event)});\n",
       "\n",
       "    /* This prevents the web browser from automatically changing to\n",
       "     * the text insertion cursor when the button is pressed.  We want\n",
       "     * to control all of the cursor setting manually through the\n",
       "     * 'cursor' event from matplotlib */\n",
       "    event.preventDefault();\n",
       "    return false;\n",
       "}\n",
       "\n",
       "mpl.figure.prototype._key_event_extra = function(event, name) {\n",
       "    // Handle any extra behaviour associated with a key event\n",
       "}\n",
       "\n",
       "mpl.figure.prototype.key_event = function(event, name) {\n",
       "\n",
       "    // Prevent repeat events\n",
       "    if (name == 'key_press')\n",
       "    {\n",
       "        if (event.which === this._key)\n",
       "            return;\n",
       "        else\n",
       "            this._key = event.which;\n",
       "    }\n",
       "    if (name == 'key_release')\n",
       "        this._key = null;\n",
       "\n",
       "    var value = '';\n",
       "    if (event.ctrlKey && event.which != 17)\n",
       "        value += \"ctrl+\";\n",
       "    if (event.altKey && event.which != 18)\n",
       "        value += \"alt+\";\n",
       "    if (event.shiftKey && event.which != 16)\n",
       "        value += \"shift+\";\n",
       "\n",
       "    value += 'k';\n",
       "    value += event.which.toString();\n",
       "\n",
       "    this._key_event_extra(event, name);\n",
       "\n",
       "    this.send_message(name, {key: value,\n",
       "                             guiEvent: simpleKeys(event)});\n",
       "    return false;\n",
       "}\n",
       "\n",
       "mpl.figure.prototype.toolbar_button_onclick = function(name) {\n",
       "    if (name == 'download') {\n",
       "        this.handle_save(this, null);\n",
       "    } else {\n",
       "        this.send_message(\"toolbar_button\", {name: name});\n",
       "    }\n",
       "};\n",
       "\n",
       "mpl.figure.prototype.toolbar_button_onmouseover = function(tooltip) {\n",
       "    this.message.textContent = tooltip;\n",
       "};\n",
       "mpl.toolbar_items = [[\"Home\", \"Reset original view\", \"fa fa-home icon-home\", \"home\"], [\"Back\", \"Back to  previous view\", \"fa fa-arrow-left icon-arrow-left\", \"back\"], [\"Forward\", \"Forward to next view\", \"fa fa-arrow-right icon-arrow-right\", \"forward\"], [\"\", \"\", \"\", \"\"], [\"Pan\", \"Pan axes with left mouse, zoom with right\", \"fa fa-arrows icon-move\", \"pan\"], [\"Zoom\", \"Zoom to rectangle\", \"fa fa-square-o icon-check-empty\", \"zoom\"], [\"\", \"\", \"\", \"\"], [\"Download\", \"Download plot\", \"fa fa-floppy-o icon-save\", \"download\"]];\n",
       "\n",
       "mpl.extensions = [\"eps\", \"jpeg\", \"pdf\", \"png\", \"ps\", \"raw\", \"svg\", \"tif\"];\n",
       "\n",
       "mpl.default_extension = \"png\";var comm_websocket_adapter = function(comm) {\n",
       "    // Create a \"websocket\"-like object which calls the given IPython comm\n",
       "    // object with the appropriate methods. Currently this is a non binary\n",
       "    // socket, so there is still some room for performance tuning.\n",
       "    var ws = {};\n",
       "\n",
       "    ws.close = function() {\n",
       "        comm.close()\n",
       "    };\n",
       "    ws.send = function(m) {\n",
       "        //console.log('sending', m);\n",
       "        comm.send(m);\n",
       "    };\n",
       "    // Register the callback with on_msg.\n",
       "    comm.on_msg(function(msg) {\n",
       "        //console.log('receiving', msg['content']['data'], msg);\n",
       "        // Pass the mpl event to the overriden (by mpl) onmessage function.\n",
       "        ws.onmessage(msg['content']['data'])\n",
       "    });\n",
       "    return ws;\n",
       "}\n",
       "\n",
       "mpl.mpl_figure_comm = function(comm, msg) {\n",
       "    // This is the function which gets called when the mpl process\n",
       "    // starts-up an IPython Comm through the \"matplotlib\" channel.\n",
       "\n",
       "    var id = msg.content.data.id;\n",
       "    // Get hold of the div created by the display call when the Comm\n",
       "    // socket was opened in Python.\n",
       "    var element = $(\"#\" + id);\n",
       "    var ws_proxy = comm_websocket_adapter(comm)\n",
       "\n",
       "    function ondownload(figure, format) {\n",
       "        window.open(figure.imageObj.src);\n",
       "    }\n",
       "\n",
       "    var fig = new mpl.figure(id, ws_proxy,\n",
       "                           ondownload,\n",
       "                           element.get(0));\n",
       "\n",
       "    // Call onopen now - mpl needs it, as it is assuming we've passed it a real\n",
       "    // web socket which is closed, not our websocket->open comm proxy.\n",
       "    ws_proxy.onopen();\n",
       "\n",
       "    fig.parent_element = element.get(0);\n",
       "    fig.cell_info = mpl.find_output_cell(\"<div id='\" + id + \"'></div>\");\n",
       "    if (!fig.cell_info) {\n",
       "        console.error(\"Failed to find cell for figure\", id, fig);\n",
       "        return;\n",
       "    }\n",
       "\n",
       "    var output_index = fig.cell_info[2]\n",
       "    var cell = fig.cell_info[0];\n",
       "\n",
       "};\n",
       "\n",
       "mpl.figure.prototype.handle_close = function(fig, msg) {\n",
       "    var width = fig.canvas.width/mpl.ratio\n",
       "    fig.root.unbind('remove')\n",
       "\n",
       "    // Update the output cell to use the data from the current canvas.\n",
       "    fig.push_to_output();\n",
       "    var dataURL = fig.canvas.toDataURL();\n",
       "    // Re-enable the keyboard manager in IPython - without this line, in FF,\n",
       "    // the notebook keyboard shortcuts fail.\n",
       "    IPython.keyboard_manager.enable()\n",
       "    $(fig.parent_element).html('<img src=\"' + dataURL + '\" width=\"' + width + '\">');\n",
       "    fig.close_ws(fig, msg);\n",
       "}\n",
       "\n",
       "mpl.figure.prototype.close_ws = function(fig, msg){\n",
       "    fig.send_message('closing', msg);\n",
       "    // fig.ws.close()\n",
       "}\n",
       "\n",
       "mpl.figure.prototype.push_to_output = function(remove_interactive) {\n",
       "    // Turn the data on the canvas into data in the output cell.\n",
       "    var width = this.canvas.width/mpl.ratio\n",
       "    var dataURL = this.canvas.toDataURL();\n",
       "    this.cell_info[1]['text/html'] = '<img src=\"' + dataURL + '\" width=\"' + width + '\">';\n",
       "}\n",
       "\n",
       "mpl.figure.prototype.updated_canvas_event = function() {\n",
       "    // Tell IPython that the notebook contents must change.\n",
       "    IPython.notebook.set_dirty(true);\n",
       "    this.send_message(\"ack\", {});\n",
       "    var fig = this;\n",
       "    // Wait a second, then push the new image to the DOM so\n",
       "    // that it is saved nicely (might be nice to debounce this).\n",
       "    setTimeout(function () { fig.push_to_output() }, 1000);\n",
       "}\n",
       "\n",
       "mpl.figure.prototype._init_toolbar = function() {\n",
       "    var fig = this;\n",
       "\n",
       "    var nav_element = $('<div/>')\n",
       "    nav_element.attr('style', 'width: 100%');\n",
       "    this.root.append(nav_element);\n",
       "\n",
       "    // Define a callback function for later on.\n",
       "    function toolbar_event(event) {\n",
       "        return fig.toolbar_button_onclick(event['data']);\n",
       "    }\n",
       "    function toolbar_mouse_event(event) {\n",
       "        return fig.toolbar_button_onmouseover(event['data']);\n",
       "    }\n",
       "\n",
       "    for(var toolbar_ind in mpl.toolbar_items){\n",
       "        var name = mpl.toolbar_items[toolbar_ind][0];\n",
       "        var tooltip = mpl.toolbar_items[toolbar_ind][1];\n",
       "        var image = mpl.toolbar_items[toolbar_ind][2];\n",
       "        var method_name = mpl.toolbar_items[toolbar_ind][3];\n",
       "\n",
       "        if (!name) { continue; };\n",
       "\n",
       "        var button = $('<button class=\"btn btn-default\" href=\"#\" title=\"' + name + '\"><i class=\"fa ' + image + ' fa-lg\"></i></button>');\n",
       "        button.click(method_name, toolbar_event);\n",
       "        button.mouseover(tooltip, toolbar_mouse_event);\n",
       "        nav_element.append(button);\n",
       "    }\n",
       "\n",
       "    // Add the status bar.\n",
       "    var status_bar = $('<span class=\"mpl-message\" style=\"text-align:right; float: right;\"/>');\n",
       "    nav_element.append(status_bar);\n",
       "    this.message = status_bar[0];\n",
       "\n",
       "    // Add the close button to the window.\n",
       "    var buttongrp = $('<div class=\"btn-group inline pull-right\"></div>');\n",
       "    var button = $('<button class=\"btn btn-mini btn-primary\" href=\"#\" title=\"Stop Interaction\"><i class=\"fa fa-power-off icon-remove icon-large\"></i></button>');\n",
       "    button.click(function (evt) { fig.handle_close(fig, {}); } );\n",
       "    button.mouseover('Stop Interaction', toolbar_mouse_event);\n",
       "    buttongrp.append(button);\n",
       "    var titlebar = this.root.find($('.ui-dialog-titlebar'));\n",
       "    titlebar.prepend(buttongrp);\n",
       "}\n",
       "\n",
       "mpl.figure.prototype._root_extra_style = function(el){\n",
       "    var fig = this\n",
       "    el.on(\"remove\", function(){\n",
       "\tfig.close_ws(fig, {});\n",
       "    });\n",
       "}\n",
       "\n",
       "mpl.figure.prototype._canvas_extra_style = function(el){\n",
       "    // this is important to make the div 'focusable\n",
       "    el.attr('tabindex', 0)\n",
       "    // reach out to IPython and tell the keyboard manager to turn it's self\n",
       "    // off when our div gets focus\n",
       "\n",
       "    // location in version 3\n",
       "    if (IPython.notebook.keyboard_manager) {\n",
       "        IPython.notebook.keyboard_manager.register_events(el);\n",
       "    }\n",
       "    else {\n",
       "        // location in version 2\n",
       "        IPython.keyboard_manager.register_events(el);\n",
       "    }\n",
       "\n",
       "}\n",
       "\n",
       "mpl.figure.prototype._key_event_extra = function(event, name) {\n",
       "    var manager = IPython.notebook.keyboard_manager;\n",
       "    if (!manager)\n",
       "        manager = IPython.keyboard_manager;\n",
       "\n",
       "    // Check for shift+enter\n",
       "    if (event.shiftKey && event.which == 13) {\n",
       "        this.canvas_div.blur();\n",
       "        // select the cell after this one\n",
       "        var index = IPython.notebook.find_cell_index(this.cell_info[0]);\n",
       "        IPython.notebook.select(index + 1);\n",
       "    }\n",
       "}\n",
       "\n",
       "mpl.figure.prototype.handle_save = function(fig, msg) {\n",
       "    fig.ondownload(fig, null);\n",
       "}\n",
       "\n",
       "\n",
       "mpl.find_output_cell = function(html_output) {\n",
       "    // Return the cell and output element which can be found *uniquely* in the notebook.\n",
       "    // Note - this is a bit hacky, but it is done because the \"notebook_saving.Notebook\"\n",
       "    // IPython event is triggered only after the cells have been serialised, which for\n",
       "    // our purposes (turning an active figure into a static one), is too late.\n",
       "    var cells = IPython.notebook.get_cells();\n",
       "    var ncells = cells.length;\n",
       "    for (var i=0; i<ncells; i++) {\n",
       "        var cell = cells[i];\n",
       "        if (cell.cell_type === 'code'){\n",
       "            for (var j=0; j<cell.output_area.outputs.length; j++) {\n",
       "                var data = cell.output_area.outputs[j];\n",
       "                if (data.data) {\n",
       "                    // IPython >= 3 moved mimebundle to data attribute of output\n",
       "                    data = data.data;\n",
       "                }\n",
       "                if (data['text/html'] == html_output) {\n",
       "                    return [cell, data, j];\n",
       "                }\n",
       "            }\n",
       "        }\n",
       "    }\n",
       "}\n",
       "\n",
       "// Register the function which deals with the matplotlib target/channel.\n",
       "// The kernel may be null if the page has been refreshed.\n",
       "if (IPython.notebook.kernel != null) {\n",
       "    IPython.notebook.kernel.comm_manager.register_target('matplotlib', mpl.mpl_figure_comm);\n",
       "}\n"
      ],
      "text/plain": [
       "<IPython.core.display.Javascript object>"
      ]
     },
     "metadata": {},
     "output_type": "display_data"
    },
    {
     "data": {
      "text/html": [
       "<img src=\"data:image/png;base64,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\" width=\"799.9999826604674\">"
      ],
      "text/plain": [
       "<IPython.core.display.HTML object>"
      ]
     },
     "metadata": {},
     "output_type": "display_data"
    }
   ],
   "source": [
    "# It makes figures appear inline with a options menu\n",
    "% matplotlib notebook \n",
    "\n",
    "import matplotlib.pyplot as plt\n",
    "import numpy as np\n",
    "\n",
    "#line plot\n",
    "t=np.arange(0,2*np.pi,0.2);# domain vector\n",
    "x=np.sin(t)\n",
    "y=np.cos(t)\n",
    "f,ax=plt.subplots(1,2,figsize=(8,4))\n",
    "# formating graph\n",
    "ax[0].plot(t,x,'-o',label='sin(t)')\n",
    "ax[0].plot(t,y,'-*',label='cos(t)')\n",
    "# axis labels & title:\n",
    "ax[0].set_title('Plot line');\n",
    "ax[0].set_xlabel('time [s]');\n",
    "ax[0].set_ylabel('aceleration [$m/s^{2}$]')\n",
    "ax[0].legend();#<-----Attention"
   ]
  },
  {
   "cell_type": "markdown",
   "metadata": {
    "slideshow": {
     "slide_type": "fragment"
    }
   },
   "source": [
    "### Scatter plot"
   ]
  },
  {
   "cell_type": "code",
   "execution_count": 2,
   "metadata": {
    "collapsed": true,
    "slideshow": {
     "slide_type": "fragment"
    }
   },
   "outputs": [],
   "source": [
    "x=np.random.rand(100,1)\n",
    "y=np.exp(5*x**2+10+0.5*np.random.rand(100,1))\n",
    "ax[1].scatter(x,y);\n",
    "# axis labels:\n",
    "ax[1].set_title('Scatter plot');\n",
    "ax[1].set_xlabel('time [s]');\n",
    "ax[1].set_ylabel('key variable [$m/s^{2}$]');\n",
    "#Look! there is a problem with second y label"
   ]
  },
  {
   "cell_type": "code",
   "execution_count": 3,
   "metadata": {
    "collapsed": true,
    "slideshow": {
     "slide_type": "fragment"
    }
   },
   "outputs": [],
   "source": [
    "# The solution:\n",
    "f.tight_layout()"
   ]
  },
  {
   "cell_type": "code",
   "execution_count": 4,
   "metadata": {
    "collapsed": true,
    "slideshow": {
     "slide_type": "fragment"
    }
   },
   "outputs": [],
   "source": [
    "ax[1].scatter(x,y);\n",
    "# axis labels:\n",
    "ax[1].set_title('Scatter plot');\n",
    "ax[1].set_xlabel('time [s]');\n",
    "ax[1].set_ylabel('key variable [$m/s^{2}$]');\n",
    "ax[1].set_yscale('log') #<~This line is for log scale\n",
    "#Look! there is a problem with second y label\n",
    "f.tight_layout()"
   ]
  },
  {
   "cell_type": "markdown",
   "metadata": {
    "slideshow": {
     "slide_type": "slide"
    }
   },
   "source": [
    "### Histograms"
   ]
  },
  {
   "cell_type": "code",
   "execution_count": 7,
   "metadata": {
    "slideshow": {
     "slide_type": "fragment"
    }
   },
   "outputs": [
    {
     "data": {
      "application/javascript": [
       "/* Put everything inside the global mpl namespace */\n",
       "window.mpl = {};\n",
       "\n",
       "\n",
       "mpl.get_websocket_type = function() {\n",
       "    if (typeof(WebSocket) !== 'undefined') {\n",
       "        return WebSocket;\n",
       "    } else if (typeof(MozWebSocket) !== 'undefined') {\n",
       "        return MozWebSocket;\n",
       "    } else {\n",
       "        alert('Your browser does not have WebSocket support.' +\n",
       "              'Please try Chrome, Safari or Firefox ≥ 6. ' +\n",
       "              'Firefox 4 and 5 are also supported but you ' +\n",
       "              'have to enable WebSockets in about:config.');\n",
       "    };\n",
       "}\n",
       "\n",
       "mpl.figure = function(figure_id, websocket, ondownload, parent_element) {\n",
       "    this.id = figure_id;\n",
       "\n",
       "    this.ws = websocket;\n",
       "\n",
       "    this.supports_binary = (this.ws.binaryType != undefined);\n",
       "\n",
       "    if (!this.supports_binary) {\n",
       "        var warnings = document.getElementById(\"mpl-warnings\");\n",
       "        if (warnings) {\n",
       "            warnings.style.display = 'block';\n",
       "            warnings.textContent = (\n",
       "                \"This browser does not support binary websocket messages. \" +\n",
       "                    \"Performance may be slow.\");\n",
       "        }\n",
       "    }\n",
       "\n",
       "    this.imageObj = new Image();\n",
       "\n",
       "    this.context = undefined;\n",
       "    this.message = undefined;\n",
       "    this.canvas = undefined;\n",
       "    this.rubberband_canvas = undefined;\n",
       "    this.rubberband_context = undefined;\n",
       "    this.format_dropdown = undefined;\n",
       "\n",
       "    this.image_mode = 'full';\n",
       "\n",
       "    this.root = $('<div/>');\n",
       "    this._root_extra_style(this.root)\n",
       "    this.root.attr('style', 'display: inline-block');\n",
       "\n",
       "    $(parent_element).append(this.root);\n",
       "\n",
       "    this._init_header(this);\n",
       "    this._init_canvas(this);\n",
       "    this._init_toolbar(this);\n",
       "\n",
       "    var fig = this;\n",
       "\n",
       "    this.waiting = false;\n",
       "\n",
       "    this.ws.onopen =  function () {\n",
       "            fig.send_message(\"supports_binary\", {value: fig.supports_binary});\n",
       "            fig.send_message(\"send_image_mode\", {});\n",
       "            if (mpl.ratio != 1) {\n",
       "                fig.send_message(\"set_dpi_ratio\", {'dpi_ratio': mpl.ratio});\n",
       "            }\n",
       "            fig.send_message(\"refresh\", {});\n",
       "        }\n",
       "\n",
       "    this.imageObj.onload = function() {\n",
       "            if (fig.image_mode == 'full') {\n",
       "                // Full images could contain transparency (where diff images\n",
       "                // almost always do), so we need to clear the canvas so that\n",
       "                // there is no ghosting.\n",
       "                fig.context.clearRect(0, 0, fig.canvas.width, fig.canvas.height);\n",
       "            }\n",
       "            fig.context.drawImage(fig.imageObj, 0, 0);\n",
       "        };\n",
       "\n",
       "    this.imageObj.onunload = function() {\n",
       "        this.ws.close();\n",
       "    }\n",
       "\n",
       "    this.ws.onmessage = this._make_on_message_function(this);\n",
       "\n",
       "    this.ondownload = ondownload;\n",
       "}\n",
       "\n",
       "mpl.figure.prototype._init_header = function() {\n",
       "    var titlebar = $(\n",
       "        '<div class=\"ui-dialog-titlebar ui-widget-header ui-corner-all ' +\n",
       "        'ui-helper-clearfix\"/>');\n",
       "    var titletext = $(\n",
       "        '<div class=\"ui-dialog-title\" style=\"width: 100%; ' +\n",
       "        'text-align: center; padding: 3px;\"/>');\n",
       "    titlebar.append(titletext)\n",
       "    this.root.append(titlebar);\n",
       "    this.header = titletext[0];\n",
       "}\n",
       "\n",
       "\n",
       "\n",
       "mpl.figure.prototype._canvas_extra_style = function(canvas_div) {\n",
       "\n",
       "}\n",
       "\n",
       "\n",
       "mpl.figure.prototype._root_extra_style = function(canvas_div) {\n",
       "\n",
       "}\n",
       "\n",
       "mpl.figure.prototype._init_canvas = function() {\n",
       "    var fig = this;\n",
       "\n",
       "    var canvas_div = $('<div/>');\n",
       "\n",
       "    canvas_div.attr('style', 'position: relative; clear: both; outline: 0');\n",
       "\n",
       "    function canvas_keyboard_event(event) {\n",
       "        return fig.key_event(event, event['data']);\n",
       "    }\n",
       "\n",
       "    canvas_div.keydown('key_press', canvas_keyboard_event);\n",
       "    canvas_div.keyup('key_release', canvas_keyboard_event);\n",
       "    this.canvas_div = canvas_div\n",
       "    this._canvas_extra_style(canvas_div)\n",
       "    this.root.append(canvas_div);\n",
       "\n",
       "    var canvas = $('<canvas/>');\n",
       "    canvas.addClass('mpl-canvas');\n",
       "    canvas.attr('style', \"left: 0; top: 0; z-index: 0; outline: 0\")\n",
       "\n",
       "    this.canvas = canvas[0];\n",
       "    this.context = canvas[0].getContext(\"2d\");\n",
       "\n",
       "    var backingStore = this.context.backingStorePixelRatio ||\n",
       "\tthis.context.webkitBackingStorePixelRatio ||\n",
       "\tthis.context.mozBackingStorePixelRatio ||\n",
       "\tthis.context.msBackingStorePixelRatio ||\n",
       "\tthis.context.oBackingStorePixelRatio ||\n",
       "\tthis.context.backingStorePixelRatio || 1;\n",
       "\n",
       "    mpl.ratio = (window.devicePixelRatio || 1) / backingStore;\n",
       "\n",
       "    var rubberband = $('<canvas/>');\n",
       "    rubberband.attr('style', \"position: absolute; left: 0; top: 0; z-index: 1;\")\n",
       "\n",
       "    var pass_mouse_events = true;\n",
       "\n",
       "    canvas_div.resizable({\n",
       "        start: function(event, ui) {\n",
       "            pass_mouse_events = false;\n",
       "        },\n",
       "        resize: function(event, ui) {\n",
       "            fig.request_resize(ui.size.width, ui.size.height);\n",
       "        },\n",
       "        stop: function(event, ui) {\n",
       "            pass_mouse_events = true;\n",
       "            fig.request_resize(ui.size.width, ui.size.height);\n",
       "        },\n",
       "    });\n",
       "\n",
       "    function mouse_event_fn(event) {\n",
       "        if (pass_mouse_events)\n",
       "            return fig.mouse_event(event, event['data']);\n",
       "    }\n",
       "\n",
       "    rubberband.mousedown('button_press', mouse_event_fn);\n",
       "    rubberband.mouseup('button_release', mouse_event_fn);\n",
       "    // Throttle sequential mouse events to 1 every 20ms.\n",
       "    rubberband.mousemove('motion_notify', mouse_event_fn);\n",
       "\n",
       "    rubberband.mouseenter('figure_enter', mouse_event_fn);\n",
       "    rubberband.mouseleave('figure_leave', mouse_event_fn);\n",
       "\n",
       "    canvas_div.on(\"wheel\", function (event) {\n",
       "        event = event.originalEvent;\n",
       "        event['data'] = 'scroll'\n",
       "        if (event.deltaY < 0) {\n",
       "            event.step = 1;\n",
       "        } else {\n",
       "            event.step = -1;\n",
       "        }\n",
       "        mouse_event_fn(event);\n",
       "    });\n",
       "\n",
       "    canvas_div.append(canvas);\n",
       "    canvas_div.append(rubberband);\n",
       "\n",
       "    this.rubberband = rubberband;\n",
       "    this.rubberband_canvas = rubberband[0];\n",
       "    this.rubberband_context = rubberband[0].getContext(\"2d\");\n",
       "    this.rubberband_context.strokeStyle = \"#000000\";\n",
       "\n",
       "    this._resize_canvas = function(width, height) {\n",
       "        // Keep the size of the canvas, canvas container, and rubber band\n",
       "        // canvas in synch.\n",
       "        canvas_div.css('width', width)\n",
       "        canvas_div.css('height', height)\n",
       "\n",
       "        canvas.attr('width', width * mpl.ratio);\n",
       "        canvas.attr('height', height * mpl.ratio);\n",
       "        canvas.attr('style', 'width: ' + width + 'px; height: ' + height + 'px;');\n",
       "\n",
       "        rubberband.attr('width', width);\n",
       "        rubberband.attr('height', height);\n",
       "    }\n",
       "\n",
       "    // Set the figure to an initial 600x600px, this will subsequently be updated\n",
       "    // upon first draw.\n",
       "    this._resize_canvas(600, 600);\n",
       "\n",
       "    // Disable right mouse context menu.\n",
       "    $(this.rubberband_canvas).bind(\"contextmenu\",function(e){\n",
       "        return false;\n",
       "    });\n",
       "\n",
       "    function set_focus () {\n",
       "        canvas.focus();\n",
       "        canvas_div.focus();\n",
       "    }\n",
       "\n",
       "    window.setTimeout(set_focus, 100);\n",
       "}\n",
       "\n",
       "mpl.figure.prototype._init_toolbar = function() {\n",
       "    var fig = this;\n",
       "\n",
       "    var nav_element = $('<div/>')\n",
       "    nav_element.attr('style', 'width: 100%');\n",
       "    this.root.append(nav_element);\n",
       "\n",
       "    // Define a callback function for later on.\n",
       "    function toolbar_event(event) {\n",
       "        return fig.toolbar_button_onclick(event['data']);\n",
       "    }\n",
       "    function toolbar_mouse_event(event) {\n",
       "        return fig.toolbar_button_onmouseover(event['data']);\n",
       "    }\n",
       "\n",
       "    for(var toolbar_ind in mpl.toolbar_items) {\n",
       "        var name = mpl.toolbar_items[toolbar_ind][0];\n",
       "        var tooltip = mpl.toolbar_items[toolbar_ind][1];\n",
       "        var image = mpl.toolbar_items[toolbar_ind][2];\n",
       "        var method_name = mpl.toolbar_items[toolbar_ind][3];\n",
       "\n",
       "        if (!name) {\n",
       "            // put a spacer in here.\n",
       "            continue;\n",
       "        }\n",
       "        var button = $('<button/>');\n",
       "        button.addClass('ui-button ui-widget ui-state-default ui-corner-all ' +\n",
       "                        'ui-button-icon-only');\n",
       "        button.attr('role', 'button');\n",
       "        button.attr('aria-disabled', 'false');\n",
       "        button.click(method_name, toolbar_event);\n",
       "        button.mouseover(tooltip, toolbar_mouse_event);\n",
       "\n",
       "        var icon_img = $('<span/>');\n",
       "        icon_img.addClass('ui-button-icon-primary ui-icon');\n",
       "        icon_img.addClass(image);\n",
       "        icon_img.addClass('ui-corner-all');\n",
       "\n",
       "        var tooltip_span = $('<span/>');\n",
       "        tooltip_span.addClass('ui-button-text');\n",
       "        tooltip_span.html(tooltip);\n",
       "\n",
       "        button.append(icon_img);\n",
       "        button.append(tooltip_span);\n",
       "\n",
       "        nav_element.append(button);\n",
       "    }\n",
       "\n",
       "    var fmt_picker_span = $('<span/>');\n",
       "\n",
       "    var fmt_picker = $('<select/>');\n",
       "    fmt_picker.addClass('mpl-toolbar-option ui-widget ui-widget-content');\n",
       "    fmt_picker_span.append(fmt_picker);\n",
       "    nav_element.append(fmt_picker_span);\n",
       "    this.format_dropdown = fmt_picker[0];\n",
       "\n",
       "    for (var ind in mpl.extensions) {\n",
       "        var fmt = mpl.extensions[ind];\n",
       "        var option = $(\n",
       "            '<option/>', {selected: fmt === mpl.default_extension}).html(fmt);\n",
       "        fmt_picker.append(option)\n",
       "    }\n",
       "\n",
       "    // Add hover states to the ui-buttons\n",
       "    $( \".ui-button\" ).hover(\n",
       "        function() { $(this).addClass(\"ui-state-hover\");},\n",
       "        function() { $(this).removeClass(\"ui-state-hover\");}\n",
       "    );\n",
       "\n",
       "    var status_bar = $('<span class=\"mpl-message\"/>');\n",
       "    nav_element.append(status_bar);\n",
       "    this.message = status_bar[0];\n",
       "}\n",
       "\n",
       "mpl.figure.prototype.request_resize = function(x_pixels, y_pixels) {\n",
       "    // Request matplotlib to resize the figure. Matplotlib will then trigger a resize in the client,\n",
       "    // which will in turn request a refresh of the image.\n",
       "    this.send_message('resize', {'width': x_pixels, 'height': y_pixels});\n",
       "}\n",
       "\n",
       "mpl.figure.prototype.send_message = function(type, properties) {\n",
       "    properties['type'] = type;\n",
       "    properties['figure_id'] = this.id;\n",
       "    this.ws.send(JSON.stringify(properties));\n",
       "}\n",
       "\n",
       "mpl.figure.prototype.send_draw_message = function() {\n",
       "    if (!this.waiting) {\n",
       "        this.waiting = true;\n",
       "        this.ws.send(JSON.stringify({type: \"draw\", figure_id: this.id}));\n",
       "    }\n",
       "}\n",
       "\n",
       "\n",
       "mpl.figure.prototype.handle_save = function(fig, msg) {\n",
       "    var format_dropdown = fig.format_dropdown;\n",
       "    var format = format_dropdown.options[format_dropdown.selectedIndex].value;\n",
       "    fig.ondownload(fig, format);\n",
       "}\n",
       "\n",
       "\n",
       "mpl.figure.prototype.handle_resize = function(fig, msg) {\n",
       "    var size = msg['size'];\n",
       "    if (size[0] != fig.canvas.width || size[1] != fig.canvas.height) {\n",
       "        fig._resize_canvas(size[0], size[1]);\n",
       "        fig.send_message(\"refresh\", {});\n",
       "    };\n",
       "}\n",
       "\n",
       "mpl.figure.prototype.handle_rubberband = function(fig, msg) {\n",
       "    var x0 = msg['x0'] / mpl.ratio;\n",
       "    var y0 = (fig.canvas.height - msg['y0']) / mpl.ratio;\n",
       "    var x1 = msg['x1'] / mpl.ratio;\n",
       "    var y1 = (fig.canvas.height - msg['y1']) / mpl.ratio;\n",
       "    x0 = Math.floor(x0) + 0.5;\n",
       "    y0 = Math.floor(y0) + 0.5;\n",
       "    x1 = Math.floor(x1) + 0.5;\n",
       "    y1 = Math.floor(y1) + 0.5;\n",
       "    var min_x = Math.min(x0, x1);\n",
       "    var min_y = Math.min(y0, y1);\n",
       "    var width = Math.abs(x1 - x0);\n",
       "    var height = Math.abs(y1 - y0);\n",
       "\n",
       "    fig.rubberband_context.clearRect(\n",
       "        0, 0, fig.canvas.width, fig.canvas.height);\n",
       "\n",
       "    fig.rubberband_context.strokeRect(min_x, min_y, width, height);\n",
       "}\n",
       "\n",
       "mpl.figure.prototype.handle_figure_label = function(fig, msg) {\n",
       "    // Updates the figure title.\n",
       "    fig.header.textContent = msg['label'];\n",
       "}\n",
       "\n",
       "mpl.figure.prototype.handle_cursor = function(fig, msg) {\n",
       "    var cursor = msg['cursor'];\n",
       "    switch(cursor)\n",
       "    {\n",
       "    case 0:\n",
       "        cursor = 'pointer';\n",
       "        break;\n",
       "    case 1:\n",
       "        cursor = 'default';\n",
       "        break;\n",
       "    case 2:\n",
       "        cursor = 'crosshair';\n",
       "        break;\n",
       "    case 3:\n",
       "        cursor = 'move';\n",
       "        break;\n",
       "    }\n",
       "    fig.rubberband_canvas.style.cursor = cursor;\n",
       "}\n",
       "\n",
       "mpl.figure.prototype.handle_message = function(fig, msg) {\n",
       "    fig.message.textContent = msg['message'];\n",
       "}\n",
       "\n",
       "mpl.figure.prototype.handle_draw = function(fig, msg) {\n",
       "    // Request the server to send over a new figure.\n",
       "    fig.send_draw_message();\n",
       "}\n",
       "\n",
       "mpl.figure.prototype.handle_image_mode = function(fig, msg) {\n",
       "    fig.image_mode = msg['mode'];\n",
       "}\n",
       "\n",
       "mpl.figure.prototype.updated_canvas_event = function() {\n",
       "    // Called whenever the canvas gets updated.\n",
       "    this.send_message(\"ack\", {});\n",
       "}\n",
       "\n",
       "// A function to construct a web socket function for onmessage handling.\n",
       "// Called in the figure constructor.\n",
       "mpl.figure.prototype._make_on_message_function = function(fig) {\n",
       "    return function socket_on_message(evt) {\n",
       "        if (evt.data instanceof Blob) {\n",
       "            /* FIXME: We get \"Resource interpreted as Image but\n",
       "             * transferred with MIME type text/plain:\" errors on\n",
       "             * Chrome.  But how to set the MIME type?  It doesn't seem\n",
       "             * to be part of the websocket stream */\n",
       "            evt.data.type = \"image/png\";\n",
       "\n",
       "            /* Free the memory for the previous frames */\n",
       "            if (fig.imageObj.src) {\n",
       "                (window.URL || window.webkitURL).revokeObjectURL(\n",
       "                    fig.imageObj.src);\n",
       "            }\n",
       "\n",
       "            fig.imageObj.src = (window.URL || window.webkitURL).createObjectURL(\n",
       "                evt.data);\n",
       "            fig.updated_canvas_event();\n",
       "            fig.waiting = false;\n",
       "            return;\n",
       "        }\n",
       "        else if (typeof evt.data === 'string' && evt.data.slice(0, 21) == \"data:image/png;base64\") {\n",
       "            fig.imageObj.src = evt.data;\n",
       "            fig.updated_canvas_event();\n",
       "            fig.waiting = false;\n",
       "            return;\n",
       "        }\n",
       "\n",
       "        var msg = JSON.parse(evt.data);\n",
       "        var msg_type = msg['type'];\n",
       "\n",
       "        // Call the  \"handle_{type}\" callback, which takes\n",
       "        // the figure and JSON message as its only arguments.\n",
       "        try {\n",
       "            var callback = fig[\"handle_\" + msg_type];\n",
       "        } catch (e) {\n",
       "            console.log(\"No handler for the '\" + msg_type + \"' message type: \", msg);\n",
       "            return;\n",
       "        }\n",
       "\n",
       "        if (callback) {\n",
       "            try {\n",
       "                // console.log(\"Handling '\" + msg_type + \"' message: \", msg);\n",
       "                callback(fig, msg);\n",
       "            } catch (e) {\n",
       "                console.log(\"Exception inside the 'handler_\" + msg_type + \"' callback:\", e, e.stack, msg);\n",
       "            }\n",
       "        }\n",
       "    };\n",
       "}\n",
       "\n",
       "// from http://stackoverflow.com/questions/1114465/getting-mouse-location-in-canvas\n",
       "mpl.findpos = function(e) {\n",
       "    //this section is from http://www.quirksmode.org/js/events_properties.html\n",
       "    var targ;\n",
       "    if (!e)\n",
       "        e = window.event;\n",
       "    if (e.target)\n",
       "        targ = e.target;\n",
       "    else if (e.srcElement)\n",
       "        targ = e.srcElement;\n",
       "    if (targ.nodeType == 3) // defeat Safari bug\n",
       "        targ = targ.parentNode;\n",
       "\n",
       "    // jQuery normalizes the pageX and pageY\n",
       "    // pageX,Y are the mouse positions relative to the document\n",
       "    // offset() returns the position of the element relative to the document\n",
       "    var x = e.pageX - $(targ).offset().left;\n",
       "    var y = e.pageY - $(targ).offset().top;\n",
       "\n",
       "    return {\"x\": x, \"y\": y};\n",
       "};\n",
       "\n",
       "/*\n",
       " * return a copy of an object with only non-object keys\n",
       " * we need this to avoid circular references\n",
       " * http://stackoverflow.com/a/24161582/3208463\n",
       " */\n",
       "function simpleKeys (original) {\n",
       "  return Object.keys(original).reduce(function (obj, key) {\n",
       "    if (typeof original[key] !== 'object')\n",
       "        obj[key] = original[key]\n",
       "    return obj;\n",
       "  }, {});\n",
       "}\n",
       "\n",
       "mpl.figure.prototype.mouse_event = function(event, name) {\n",
       "    var canvas_pos = mpl.findpos(event)\n",
       "\n",
       "    if (name === 'button_press')\n",
       "    {\n",
       "        this.canvas.focus();\n",
       "        this.canvas_div.focus();\n",
       "    }\n",
       "\n",
       "    var x = canvas_pos.x * mpl.ratio;\n",
       "    var y = canvas_pos.y * mpl.ratio;\n",
       "\n",
       "    this.send_message(name, {x: x, y: y, button: event.button,\n",
       "                             step: event.step,\n",
       "                             guiEvent: simpleKeys(event)});\n",
       "\n",
       "    /* This prevents the web browser from automatically changing to\n",
       "     * the text insertion cursor when the button is pressed.  We want\n",
       "     * to control all of the cursor setting manually through the\n",
       "     * 'cursor' event from matplotlib */\n",
       "    event.preventDefault();\n",
       "    return false;\n",
       "}\n",
       "\n",
       "mpl.figure.prototype._key_event_extra = function(event, name) {\n",
       "    // Handle any extra behaviour associated with a key event\n",
       "}\n",
       "\n",
       "mpl.figure.prototype.key_event = function(event, name) {\n",
       "\n",
       "    // Prevent repeat events\n",
       "    if (name == 'key_press')\n",
       "    {\n",
       "        if (event.which === this._key)\n",
       "            return;\n",
       "        else\n",
       "            this._key = event.which;\n",
       "    }\n",
       "    if (name == 'key_release')\n",
       "        this._key = null;\n",
       "\n",
       "    var value = '';\n",
       "    if (event.ctrlKey && event.which != 17)\n",
       "        value += \"ctrl+\";\n",
       "    if (event.altKey && event.which != 18)\n",
       "        value += \"alt+\";\n",
       "    if (event.shiftKey && event.which != 16)\n",
       "        value += \"shift+\";\n",
       "\n",
       "    value += 'k';\n",
       "    value += event.which.toString();\n",
       "\n",
       "    this._key_event_extra(event, name);\n",
       "\n",
       "    this.send_message(name, {key: value,\n",
       "                             guiEvent: simpleKeys(event)});\n",
       "    return false;\n",
       "}\n",
       "\n",
       "mpl.figure.prototype.toolbar_button_onclick = function(name) {\n",
       "    if (name == 'download') {\n",
       "        this.handle_save(this, null);\n",
       "    } else {\n",
       "        this.send_message(\"toolbar_button\", {name: name});\n",
       "    }\n",
       "};\n",
       "\n",
       "mpl.figure.prototype.toolbar_button_onmouseover = function(tooltip) {\n",
       "    this.message.textContent = tooltip;\n",
       "};\n",
       "mpl.toolbar_items = [[\"Home\", \"Reset original view\", \"fa fa-home icon-home\", \"home\"], [\"Back\", \"Back to  previous view\", \"fa fa-arrow-left icon-arrow-left\", \"back\"], [\"Forward\", \"Forward to next view\", \"fa fa-arrow-right icon-arrow-right\", \"forward\"], [\"\", \"\", \"\", \"\"], [\"Pan\", \"Pan axes with left mouse, zoom with right\", \"fa fa-arrows icon-move\", \"pan\"], [\"Zoom\", \"Zoom to rectangle\", \"fa fa-square-o icon-check-empty\", \"zoom\"], [\"\", \"\", \"\", \"\"], [\"Download\", \"Download plot\", \"fa fa-floppy-o icon-save\", \"download\"]];\n",
       "\n",
       "mpl.extensions = [\"eps\", \"jpeg\", \"pdf\", \"png\", \"ps\", \"raw\", \"svg\", \"tif\"];\n",
       "\n",
       "mpl.default_extension = \"png\";var comm_websocket_adapter = function(comm) {\n",
       "    // Create a \"websocket\"-like object which calls the given IPython comm\n",
       "    // object with the appropriate methods. Currently this is a non binary\n",
       "    // socket, so there is still some room for performance tuning.\n",
       "    var ws = {};\n",
       "\n",
       "    ws.close = function() {\n",
       "        comm.close()\n",
       "    };\n",
       "    ws.send = function(m) {\n",
       "        //console.log('sending', m);\n",
       "        comm.send(m);\n",
       "    };\n",
       "    // Register the callback with on_msg.\n",
       "    comm.on_msg(function(msg) {\n",
       "        //console.log('receiving', msg['content']['data'], msg);\n",
       "        // Pass the mpl event to the overriden (by mpl) onmessage function.\n",
       "        ws.onmessage(msg['content']['data'])\n",
       "    });\n",
       "    return ws;\n",
       "}\n",
       "\n",
       "mpl.mpl_figure_comm = function(comm, msg) {\n",
       "    // This is the function which gets called when the mpl process\n",
       "    // starts-up an IPython Comm through the \"matplotlib\" channel.\n",
       "\n",
       "    var id = msg.content.data.id;\n",
       "    // Get hold of the div created by the display call when the Comm\n",
       "    // socket was opened in Python.\n",
       "    var element = $(\"#\" + id);\n",
       "    var ws_proxy = comm_websocket_adapter(comm)\n",
       "\n",
       "    function ondownload(figure, format) {\n",
       "        window.open(figure.imageObj.src);\n",
       "    }\n",
       "\n",
       "    var fig = new mpl.figure(id, ws_proxy,\n",
       "                           ondownload,\n",
       "                           element.get(0));\n",
       "\n",
       "    // Call onopen now - mpl needs it, as it is assuming we've passed it a real\n",
       "    // web socket which is closed, not our websocket->open comm proxy.\n",
       "    ws_proxy.onopen();\n",
       "\n",
       "    fig.parent_element = element.get(0);\n",
       "    fig.cell_info = mpl.find_output_cell(\"<div id='\" + id + \"'></div>\");\n",
       "    if (!fig.cell_info) {\n",
       "        console.error(\"Failed to find cell for figure\", id, fig);\n",
       "        return;\n",
       "    }\n",
       "\n",
       "    var output_index = fig.cell_info[2]\n",
       "    var cell = fig.cell_info[0];\n",
       "\n",
       "};\n",
       "\n",
       "mpl.figure.prototype.handle_close = function(fig, msg) {\n",
       "    var width = fig.canvas.width/mpl.ratio\n",
       "    fig.root.unbind('remove')\n",
       "\n",
       "    // Update the output cell to use the data from the current canvas.\n",
       "    fig.push_to_output();\n",
       "    var dataURL = fig.canvas.toDataURL();\n",
       "    // Re-enable the keyboard manager in IPython - without this line, in FF,\n",
       "    // the notebook keyboard shortcuts fail.\n",
       "    IPython.keyboard_manager.enable()\n",
       "    $(fig.parent_element).html('<img src=\"' + dataURL + '\" width=\"' + width + '\">');\n",
       "    fig.close_ws(fig, msg);\n",
       "}\n",
       "\n",
       "mpl.figure.prototype.close_ws = function(fig, msg){\n",
       "    fig.send_message('closing', msg);\n",
       "    // fig.ws.close()\n",
       "}\n",
       "\n",
       "mpl.figure.prototype.push_to_output = function(remove_interactive) {\n",
       "    // Turn the data on the canvas into data in the output cell.\n",
       "    var width = this.canvas.width/mpl.ratio\n",
       "    var dataURL = this.canvas.toDataURL();\n",
       "    this.cell_info[1]['text/html'] = '<img src=\"' + dataURL + '\" width=\"' + width + '\">';\n",
       "}\n",
       "\n",
       "mpl.figure.prototype.updated_canvas_event = function() {\n",
       "    // Tell IPython that the notebook contents must change.\n",
       "    IPython.notebook.set_dirty(true);\n",
       "    this.send_message(\"ack\", {});\n",
       "    var fig = this;\n",
       "    // Wait a second, then push the new image to the DOM so\n",
       "    // that it is saved nicely (might be nice to debounce this).\n",
       "    setTimeout(function () { fig.push_to_output() }, 1000);\n",
       "}\n",
       "\n",
       "mpl.figure.prototype._init_toolbar = function() {\n",
       "    var fig = this;\n",
       "\n",
       "    var nav_element = $('<div/>')\n",
       "    nav_element.attr('style', 'width: 100%');\n",
       "    this.root.append(nav_element);\n",
       "\n",
       "    // Define a callback function for later on.\n",
       "    function toolbar_event(event) {\n",
       "        return fig.toolbar_button_onclick(event['data']);\n",
       "    }\n",
       "    function toolbar_mouse_event(event) {\n",
       "        return fig.toolbar_button_onmouseover(event['data']);\n",
       "    }\n",
       "\n",
       "    for(var toolbar_ind in mpl.toolbar_items){\n",
       "        var name = mpl.toolbar_items[toolbar_ind][0];\n",
       "        var tooltip = mpl.toolbar_items[toolbar_ind][1];\n",
       "        var image = mpl.toolbar_items[toolbar_ind][2];\n",
       "        var method_name = mpl.toolbar_items[toolbar_ind][3];\n",
       "\n",
       "        if (!name) { continue; };\n",
       "\n",
       "        var button = $('<button class=\"btn btn-default\" href=\"#\" title=\"' + name + '\"><i class=\"fa ' + image + ' fa-lg\"></i></button>');\n",
       "        button.click(method_name, toolbar_event);\n",
       "        button.mouseover(tooltip, toolbar_mouse_event);\n",
       "        nav_element.append(button);\n",
       "    }\n",
       "\n",
       "    // Add the status bar.\n",
       "    var status_bar = $('<span class=\"mpl-message\" style=\"text-align:right; float: right;\"/>');\n",
       "    nav_element.append(status_bar);\n",
       "    this.message = status_bar[0];\n",
       "\n",
       "    // Add the close button to the window.\n",
       "    var buttongrp = $('<div class=\"btn-group inline pull-right\"></div>');\n",
       "    var button = $('<button class=\"btn btn-mini btn-primary\" href=\"#\" title=\"Stop Interaction\"><i class=\"fa fa-power-off icon-remove icon-large\"></i></button>');\n",
       "    button.click(function (evt) { fig.handle_close(fig, {}); } );\n",
       "    button.mouseover('Stop Interaction', toolbar_mouse_event);\n",
       "    buttongrp.append(button);\n",
       "    var titlebar = this.root.find($('.ui-dialog-titlebar'));\n",
       "    titlebar.prepend(buttongrp);\n",
       "}\n",
       "\n",
       "mpl.figure.prototype._root_extra_style = function(el){\n",
       "    var fig = this\n",
       "    el.on(\"remove\", function(){\n",
       "\tfig.close_ws(fig, {});\n",
       "    });\n",
       "}\n",
       "\n",
       "mpl.figure.prototype._canvas_extra_style = function(el){\n",
       "    // this is important to make the div 'focusable\n",
       "    el.attr('tabindex', 0)\n",
       "    // reach out to IPython and tell the keyboard manager to turn it's self\n",
       "    // off when our div gets focus\n",
       "\n",
       "    // location in version 3\n",
       "    if (IPython.notebook.keyboard_manager) {\n",
       "        IPython.notebook.keyboard_manager.register_events(el);\n",
       "    }\n",
       "    else {\n",
       "        // location in version 2\n",
       "        IPython.keyboard_manager.register_events(el);\n",
       "    }\n",
       "\n",
       "}\n",
       "\n",
       "mpl.figure.prototype._key_event_extra = function(event, name) {\n",
       "    var manager = IPython.notebook.keyboard_manager;\n",
       "    if (!manager)\n",
       "        manager = IPython.keyboard_manager;\n",
       "\n",
       "    // Check for shift+enter\n",
       "    if (event.shiftKey && event.which == 13) {\n",
       "        this.canvas_div.blur();\n",
       "        // select the cell after this one\n",
       "        var index = IPython.notebook.find_cell_index(this.cell_info[0]);\n",
       "        IPython.notebook.select(index + 1);\n",
       "    }\n",
       "}\n",
       "\n",
       "mpl.figure.prototype.handle_save = function(fig, msg) {\n",
       "    fig.ondownload(fig, null);\n",
       "}\n",
       "\n",
       "\n",
       "mpl.find_output_cell = function(html_output) {\n",
       "    // Return the cell and output element which can be found *uniquely* in the notebook.\n",
       "    // Note - this is a bit hacky, but it is done because the \"notebook_saving.Notebook\"\n",
       "    // IPython event is triggered only after the cells have been serialised, which for\n",
       "    // our purposes (turning an active figure into a static one), is too late.\n",
       "    var cells = IPython.notebook.get_cells();\n",
       "    var ncells = cells.length;\n",
       "    for (var i=0; i<ncells; i++) {\n",
       "        var cell = cells[i];\n",
       "        if (cell.cell_type === 'code'){\n",
       "            for (var j=0; j<cell.output_area.outputs.length; j++) {\n",
       "                var data = cell.output_area.outputs[j];\n",
       "                if (data.data) {\n",
       "                    // IPython >= 3 moved mimebundle to data attribute of output\n",
       "                    data = data.data;\n",
       "                }\n",
       "                if (data['text/html'] == html_output) {\n",
       "                    return [cell, data, j];\n",
       "                }\n",
       "            }\n",
       "        }\n",
       "    }\n",
       "}\n",
       "\n",
       "// Register the function which deals with the matplotlib target/channel.\n",
       "// The kernel may be null if the page has been refreshed.\n",
       "if (IPython.notebook.kernel != null) {\n",
       "    IPython.notebook.kernel.comm_manager.register_target('matplotlib', mpl.mpl_figure_comm);\n",
       "}\n"
      ],
      "text/plain": [
       "<IPython.core.display.Javascript object>"
      ]
     },
     "metadata": {},
     "output_type": "display_data"
    },
    {
     "data": {
      "text/html": [
       "<img src=\"data:image/png;base64,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\" width=\"639.9999861283738\">"
      ],
      "text/plain": [
       "<IPython.core.display.HTML object>"
      ]
     },
     "metadata": {},
     "output_type": "display_data"
    }
   ],
   "source": [
    "n=1e6\n",
    "x=np.random.rand(int(n),1)*1.2\n",
    "y=5*np.random.beta(2,7,int(n))+5\n",
    "z=np.random.normal(3,0.4,int(n))\n",
    "# Ploting:\n",
    "f=plt.figure()\n",
    "plt.hist(x,bins=int(np.sqrt(n)),normed=True);\n",
    "plt.hist(y,bins=int(np.sqrt(n)),histtype='step',normed=True);\n",
    "plt.hist(z,bins=int(np.sqrt(n)),histtype='step',normed=True);\n",
    "del(x);del(y);del(z);# quite important!!!\n",
    "plt.title('Histograms');"
   ]
  },
  {
   "cell_type": "markdown",
   "metadata": {
    "slideshow": {
     "slide_type": "fragment"
    }
   },
   "source": [
    "__WARNING !!!__ <br>\n",
    "Some topics as marker sizes, x and y ticks, text in graph are quite useful. But time is too short"
   ]
  },
  {
   "cell_type": "markdown",
   "metadata": {
    "slideshow": {
     "slide_type": "slide"
    }
   },
   "source": [
    "# DICTIONARIES"
   ]
  },
  {
   "cell_type": "markdown",
   "metadata": {
    "slideshow": {
     "slide_type": "slide"
    }
   },
   "source": [
    "## Defining a dict"
   ]
  },
  {
   "cell_type": "code",
   "execution_count": 13,
   "metadata": {
    "slideshow": {
     "slide_type": "fragment"
    }
   },
   "outputs": [
    {
     "name": "stdout",
     "output_type": "stream",
     "text": [
      "{'spain': 'madrid', 'france': 'paris', 'germany': 'bonn', 'norway': 'oslo', 'italy': 'rome', 'poland': 'warsaw', 'australia': 'vienna'}\n"
     ]
    }
   ],
   "source": [
    "europe = {'spain':'madrid', 'france':'paris', 'germany':'bonn',\n",
    "          'norway':'oslo', 'italy':'rome', 'poland':'warsaw',\n",
    "          'australia':'vienna' }\n",
    "print(europe)"
   ]
  },
  {
   "cell_type": "markdown",
   "metadata": {
    "slideshow": {
     "slide_type": "fragment"
    }
   },
   "source": [
    "A Two level dict:"
   ]
  },
  {
   "cell_type": "code",
   "execution_count": 18,
   "metadata": {
    "collapsed": true,
    "slideshow": {
     "slide_type": "fragment"
    }
   },
   "outputs": [],
   "source": [
    "europe = { 'spain': { 'capital':'madrid', 'population':46.77 },\n",
    "           'france': { 'capital':'paris', 'population':66.03 },\n",
    "           'germany': { 'capital':'berlin', 'population':80.62 },\n",
    "           'norway': { 'capital':'oslo', 'population':5.084 } }"
   ]
  },
  {
   "cell_type": "markdown",
   "metadata": {
    "slideshow": {
     "slide_type": "slide"
    }
   },
   "source": [
    "## QUERY, MODIFY AND DELETE:"
   ]
  },
  {
   "cell_type": "code",
   "execution_count": 42,
   "metadata": {
    "slideshow": {
     "slide_type": "fragment"
    }
   },
   "outputs": [
    {
     "name": "stdout",
     "output_type": "stream",
     "text": [
      "A element (Dictionary)\n",
      "{'capital': 'madrid', 'population': 46.77}\n",
      "\n",
      "A Capital and its population:\n",
      "The capital of spain is madrid and its population is 46.77\n"
     ]
    }
   ],
   "source": [
    "# Queries:\n",
    "print('A element (Dictionary)')\n",
    "print(europe['spain'])\n",
    "print('\\nA Capital and its population:')\n",
    "print(\"The capital of spain is {} and its population is {}\".format(europe['spain']['capital'],europe['spain']['population']))"
   ]
  },
  {
   "cell_type": "code",
   "execution_count": 15,
   "metadata": {
    "slideshow": {
     "slide_type": "fragment"
    }
   },
   "outputs": [
    {
     "name": "stdout",
     "output_type": "stream",
     "text": [
      "before mod:46.77\n",
      "after mod:-1\n"
     ]
    }
   ],
   "source": [
    "# Modify:\n",
    "print('before mod:'+str(europe['spain']['population']))\n",
    "europe['spain']['population']=-1\n",
    "print('after mod:'+str(europe['spain']['population']))"
   ]
  },
  {
   "cell_type": "code",
   "execution_count": 17,
   "metadata": {
    "slideshow": {
     "slide_type": "fragment"
    }
   },
   "outputs": [
    {
     "name": "stdout",
     "output_type": "stream",
     "text": [
      "\n",
      "Before delation:\n",
      "{'france': {'capital': 'paris', 'population': 66.03}, 'germany': {'capital': 'berlin', 'population': 80.62}, 'norway': {'capital': 'oslo', 'population': 5.084}}\n"
     ]
    },
    {
     "ename": "KeyError",
     "evalue": "'spain'",
     "output_type": "error",
     "traceback": [
      "\u001b[0;31m---------------------------------------------------------------------------\u001b[0m",
      "\u001b[0;31mKeyError\u001b[0m                                  Traceback (most recent call last)",
      "\u001b[0;32m<ipython-input-17-b553c47ace50>\u001b[0m in \u001b[0;36m<module>\u001b[0;34m()\u001b[0m\n\u001b[1;32m      2\u001b[0m \u001b[0mprint\u001b[0m\u001b[0;34m(\u001b[0m\u001b[0;34m'\\nBefore delation:\\n'\u001b[0m\u001b[0;34m+\u001b[0m\u001b[0mstr\u001b[0m\u001b[0;34m(\u001b[0m\u001b[0meurope\u001b[0m\u001b[0;34m)\u001b[0m\u001b[0;34m)\u001b[0m\u001b[0;34m\u001b[0m\u001b[0m\n\u001b[1;32m      3\u001b[0m \u001b[0;34m\u001b[0m\u001b[0m\n\u001b[0;32m----> 4\u001b[0;31m \u001b[0;32mdel\u001b[0m \u001b[0meurope\u001b[0m\u001b[0;34m[\u001b[0m\u001b[0;34m'spain'\u001b[0m\u001b[0;34m]\u001b[0m\u001b[0;34m\u001b[0m\u001b[0m\n\u001b[0m",
      "\u001b[0;31mKeyError\u001b[0m: 'spain'"
     ]
    }
   ],
   "source": [
    "# Deletion:\n",
    "print('\\nBefore delation:\\n'+str(europe))\n",
    "\n",
    "del europe['spain']"
   ]
  },
  {
   "cell_type": "code",
   "execution_count": 21,
   "metadata": {
    "slideshow": {
     "slide_type": "fragment"
    }
   },
   "outputs": [
    {
     "name": "stdout",
     "output_type": "stream",
     "text": [
      "\n",
      "After delation:\n",
      "{'france': {'capital': 'paris', 'population': 66.03}, 'germany': {'capital': 'berlin', 'population': 80.62}, 'norway': {'capital': 'oslo', 'population': 5.084}}\n"
     ]
    }
   ],
   "source": [
    "if 'spain' in europe:\n",
    "    del europe['spain']\n",
    "\n",
    "print('\\nAfter delation:\\n'+str(europe))"
   ]
  },
  {
   "cell_type": "markdown",
   "metadata": {
    "slideshow": {
     "slide_type": "fragment"
    }
   },
   "source": [
    "__Note:__ Dicts are a good options when key is unique."
   ]
  },
  {
   "cell_type": "markdown",
   "metadata": {
    "slideshow": {
     "slide_type": "slide"
    }
   },
   "source": [
    "# PANDAS "
   ]
  },
  {
   "cell_type": "markdown",
   "metadata": {
    "slideshow": {
     "slide_type": "slide"
    }
   },
   "source": [
    "## DataFrames"
   ]
  },
  {
   "cell_type": "markdown",
   "metadata": {
    "slideshow": {
     "slide_type": "fragment"
    }
   },
   "source": [
    "They are high level structures, base on dictionaries. They have columns and index to locate elements."
   ]
  },
  {
   "cell_type": "markdown",
   "metadata": {
    "slideshow": {
     "slide_type": "fragment"
    }
   },
   "source": [
    "## Defining a DataFrame"
   ]
  },
  {
   "cell_type": "code",
   "execution_count": 24,
   "metadata": {
    "slideshow": {
     "slide_type": "fragment"
    }
   },
   "outputs": [
    {
     "data": {
      "text/html": [
       "<div>\n",
       "<table border=\"1\" class=\"dataframe\">\n",
       "  <thead>\n",
       "    <tr style=\"text-align: right;\">\n",
       "      <th></th>\n",
       "      <th>cars_per_cap</th>\n",
       "      <th>country</th>\n",
       "      <th>drives_right</th>\n",
       "    </tr>\n",
       "  </thead>\n",
       "  <tbody>\n",
       "    <tr>\n",
       "      <th>0</th>\n",
       "      <td>809</td>\n",
       "      <td>United States</td>\n",
       "      <td>True</td>\n",
       "    </tr>\n",
       "    <tr>\n",
       "      <th>1</th>\n",
       "      <td>731</td>\n",
       "      <td>Australia</td>\n",
       "      <td>False</td>\n",
       "    </tr>\n",
       "    <tr>\n",
       "      <th>2</th>\n",
       "      <td>588</td>\n",
       "      <td>Japan</td>\n",
       "      <td>False</td>\n",
       "    </tr>\n",
       "    <tr>\n",
       "      <th>3</th>\n",
       "      <td>18</td>\n",
       "      <td>India</td>\n",
       "      <td>False</td>\n",
       "    </tr>\n",
       "    <tr>\n",
       "      <th>4</th>\n",
       "      <td>200</td>\n",
       "      <td>Russia</td>\n",
       "      <td>True</td>\n",
       "    </tr>\n",
       "    <tr>\n",
       "      <th>5</th>\n",
       "      <td>70</td>\n",
       "      <td>Morocco</td>\n",
       "      <td>True</td>\n",
       "    </tr>\n",
       "    <tr>\n",
       "      <th>6</th>\n",
       "      <td>45</td>\n",
       "      <td>Egypt</td>\n",
       "      <td>True</td>\n",
       "    </tr>\n",
       "  </tbody>\n",
       "</table>\n",
       "</div>"
      ],
      "text/plain": [
       "   cars_per_cap        country drives_right\n",
       "0           809  United States         True\n",
       "1           731      Australia        False\n",
       "2           588          Japan        False\n",
       "3            18          India        False\n",
       "4           200         Russia         True\n",
       "5            70        Morocco         True\n",
       "6            45          Egypt         True"
      ]
     },
     "execution_count": 24,
     "metadata": {},
     "output_type": "execute_result"
    }
   ],
   "source": [
    "# Converting a Dictionary in a DataFrame\n",
    "import pandas as pd\n",
    "names = ['United States', 'Australia', 'Japan', 'India', 'Russia', 'Morocco', 'Egypt']\n",
    "dr =  [True, False, False, False, True, True, True]\n",
    "cpc = [809, 731, 588, 18, 200, 70, 45]\n",
    "dict = { 'country':names, 'drives_right':dr, 'cars_per_cap':cpc }\n",
    "cars = pd.DataFrame(dict)\n",
    "cars"
   ]
  },
  {
   "cell_type": "code",
   "execution_count": 25,
   "metadata": {
    "slideshow": {
     "slide_type": "fragment"
    }
   },
   "outputs": [
    {
     "name": "stdout",
     "output_type": "stream",
     "text": [
      "   Cars_per_cap        country drives_right\n",
      "0           809  United States         True\n",
      "1           731      Australia        False\n",
      "2           588          Japan        False\n",
      "3            18          India        False\n",
      "4           200         Russia         True\n",
      "5            70        Morocco         True\n",
      "6            45          Egypt         True\n",
      "\n",
      "Columns:\n",
      "Index(['Cars_per_cap', 'country', 'drives_right'], dtype='object')\n",
      "\n",
      "Index:\n",
      "RangeIndex(start=0, stop=7, step=1)\n"
     ]
    }
   ],
   "source": [
    "# Importing from a cvs\n",
    "df=pd.read_csv('cars.csv')\n",
    "print(df)\n",
    "type(df)\n",
    "print('\\nColumns:\\n'+str(df.columns))\n",
    "print('\\nIndex:\\n'+str(df.index))"
   ]
  },
  {
   "cell_type": "code",
   "execution_count": 29,
   "metadata": {
    "slideshow": {
     "slide_type": "fragment"
    }
   },
   "outputs": [
    {
     "name": "stdout",
     "output_type": "stream",
     "text": [
      "     Cars_per_cap        country drives_right\n",
      "US            809  United States         True\n",
      "AUS           731      Australia        False\n",
      "JAP           588          Japan        False\n",
      "IN             18          India        False\n",
      "RU            200         Russia         True\n",
      "MOR            70        Morocco         True\n",
      "EG             45          Egypt         True\n"
     ]
    }
   ],
   "source": [
    "# Modifying Index:\n",
    "df.set_index(pd.Series(['US','AUS','JAP','IN','RU','MOR','EG']),inplace=True)\n",
    "print(df)"
   ]
  },
  {
   "cell_type": "markdown",
   "metadata": {
    "slideshow": {
     "slide_type": "fragment"
    }
   },
   "source": [
    "__Note:__ To set the index as a columns of the csv file, you can use in read_csv function the argument index_col"
   ]
  },
  {
   "cell_type": "markdown",
   "metadata": {
    "slideshow": {
     "slide_type": "slide"
    }
   },
   "source": [
    "## QUERY, MODIFY AND DELETE"
   ]
  },
  {
   "cell_type": "markdown",
   "metadata": {
    "slideshow": {
     "slide_type": "subslide"
    }
   },
   "source": [
    "### Queries Brackets "
   ]
  },
  {
   "cell_type": "code",
   "execution_count": 31,
   "metadata": {
    "slideshow": {
     "slide_type": "fragment"
    }
   },
   "outputs": [
    {
     "name": "stdout",
     "output_type": "stream",
     "text": [
      "US     United States\n",
      "AUS        Australia\n",
      "JAP            Japan\n",
      "IN             India\n",
      "RU            Russia\n",
      "MOR          Morocco\n",
      "EG             Egypt\n",
      "Name: country, dtype: object\n",
      "<class 'pandas.core.series.Series'>\n",
      "(7,)\n"
     ]
    }
   ],
   "source": [
    "#Query (as a Serie):\n",
    "print(df['country']) # as a Series\n",
    "print(type(df['country']))\n",
    "print(np.shape(df['country']))"
   ]
  },
  {
   "cell_type": "code",
   "execution_count": 34,
   "metadata": {
    "slideshow": {
     "slide_type": "fragment"
    }
   },
   "outputs": [
    {
     "name": "stdout",
     "output_type": "stream",
     "text": [
      "           country\n",
      "US   United States\n",
      "AUS      Australia\n",
      "JAP          Japan\n",
      "IN           India\n",
      "RU          Russia\n",
      "MOR        Morocco\n",
      "EG           Egypt\n",
      "<class 'pandas.core.frame.DataFrame'>\n",
      "(7, 1)\n"
     ]
    }
   ],
   "source": [
    "#Query (as a DataFrame):\n",
    "print(df[['country']]) # as a Series\n",
    "print(type(df[['country']]))\n",
    "print(np.shape(df[['country']]))"
   ]
  },
  {
   "cell_type": "code",
   "execution_count": 38,
   "metadata": {
    "slideshow": {
     "slide_type": "fragment"
    }
   },
   "outputs": [
    {
     "name": "stdout",
     "output_type": "stream",
     "text": [
      "           country  Cars_per_cap\n",
      "US   United States           809\n",
      "AUS      Australia           731\n",
      "JAP          Japan           588\n",
      "IN           India            18\n",
      "RU          Russia           200\n",
      "MOR        Morocco            70\n",
      "EG           Egypt            45\n",
      "<class 'pandas.core.frame.DataFrame'>\n"
     ]
    }
   ],
   "source": [
    "# Query Multicolum:\n",
    "print(df[['country','Cars_per_cap']])\n",
    "print(type(df[['country','Cars_per_cap']]))"
   ]
  },
  {
   "cell_type": "code",
   "execution_count": 39,
   "metadata": {
    "slideshow": {
     "slide_type": "fragment"
    }
   },
   "outputs": [
    {
     "name": "stdout",
     "output_type": "stream",
     "text": [
      "     Cars_per_cap        country drives_right\n",
      "US            809  United States         True\n",
      "AUS           731      Australia        False\n",
      "JAP           588          Japan        False\n",
      "IN             18          India        False\n",
      "RU            200         Russia         True\n",
      "MOR            70        Morocco         True\n",
      "EG             45          Egypt         True\n",
      "\n",
      "Query for JAP drivers Right:\n",
      "JAP    False\n",
      "Name: drives_right, dtype: bool\n"
     ]
    }
   ],
   "source": [
    "# Query for JAP drivers Right:\n",
    "print(df)\n",
    "print('\\nQuery for JAP drivers Right:')\n",
    "print(df[2:3]['drives_right'])"
   ]
  },
  {
   "cell_type": "markdown",
   "metadata": {
    "slideshow": {
     "slide_type": "slide"
    }
   },
   "source": [
    "### Query Loc and iLoc"
   ]
  },
  {
   "cell_type": "code",
   "execution_count": 40,
   "metadata": {
    "slideshow": {
     "slide_type": "fragment"
    }
   },
   "outputs": [
    {
     "name": "stdout",
     "output_type": "stream",
     "text": [
      "     Cars_per_cap        country drives_right\n",
      "US            809  United States         True\n",
      "AUS           731      Australia        False\n",
      "JAP           588          Japan        False\n",
      "IN             18          India        False\n",
      "RU            200         Russia         True\n",
      "MOR            70        Morocco         True\n",
      "EG             45          Egypt         True\n",
      "using LOC:\n",
      "\n",
      "Query for JAP drivers Right:\n",
      "False\n"
     ]
    }
   ],
   "source": [
    "print(df)\n",
    "# Query for JAP drivers Right\n",
    "print('using LOC:\\n')\n",
    "print('Query for JAP drivers Right:')\n",
    "print(df.loc['JAP']['drives_right'])"
   ]
  },
  {
   "cell_type": "code",
   "execution_count": 41,
   "metadata": {
    "slideshow": {
     "slide_type": "fragment"
    }
   },
   "outputs": [
    {
     "name": "stdout",
     "output_type": "stream",
     "text": [
      "     Cars_per_cap        country drives_right\n",
      "US            809  United States         True\n",
      "AUS           731      Australia        False\n",
      "JAP           588          Japan        False\n",
      "IN             18          India        False\n",
      "RU            200         Russia         True\n",
      "MOR            70        Morocco         True\n",
      "EG             45          Egypt         True\n",
      "using iLOC:\n",
      "\n",
      "Query for JAP drivers Right:\n",
      "False\n"
     ]
    }
   ],
   "source": [
    "print(df)\n",
    "# Query for JAP drivers Right\n",
    "print('using iLOC:\\n')\n",
    "print('Query for JAP drivers Right:')\n",
    "print(df.iloc[2,2])"
   ]
  },
  {
   "cell_type": "markdown",
   "metadata": {
    "slideshow": {
     "slide_type": "slide"
    }
   },
   "source": [
    "## Filtering"
   ]
  },
  {
   "cell_type": "code",
   "execution_count": 140,
   "metadata": {
    "slideshow": {
     "slide_type": "fragment"
    }
   },
   "outputs": [
    {
     "name": "stdout",
     "output_type": "stream",
     "text": [
      "US     False\n",
      "AUS    False\n",
      "JAP    False\n",
      "IN      True\n",
      "RU     False\n",
      "MOR     True\n",
      "EG      True\n",
      "Name: Cars_per_cap, dtype: bool\n"
     ]
    },
    {
     "data": {
      "text/html": [
       "<div>\n",
       "<table border=\"1\" class=\"dataframe\">\n",
       "  <thead>\n",
       "    <tr style=\"text-align: right;\">\n",
       "      <th></th>\n",
       "      <th>Cars_per_cap</th>\n",
       "      <th>country</th>\n",
       "      <th>drives_right</th>\n",
       "    </tr>\n",
       "  </thead>\n",
       "  <tbody>\n",
       "    <tr>\n",
       "      <th>IN</th>\n",
       "      <td>18</td>\n",
       "      <td>India</td>\n",
       "      <td>False</td>\n",
       "    </tr>\n",
       "    <tr>\n",
       "      <th>MOR</th>\n",
       "      <td>70</td>\n",
       "      <td>Morocco</td>\n",
       "      <td>True</td>\n",
       "    </tr>\n",
       "    <tr>\n",
       "      <th>EG</th>\n",
       "      <td>45</td>\n",
       "      <td>Egypt</td>\n",
       "      <td>True</td>\n",
       "    </tr>\n",
       "  </tbody>\n",
       "</table>\n",
       "</div>"
      ],
      "text/plain": [
       "     Cars_per_cap  country drives_right\n",
       "IN             18    India        False\n",
       "MOR            70  Morocco         True\n",
       "EG             45    Egypt         True"
      ]
     },
     "execution_count": 140,
     "metadata": {},
     "output_type": "execute_result"
    }
   ],
   "source": [
    "#Binary Indexing:\n",
    "Filter=(df['Cars_per_cap']<200)\n",
    "print(Filter)\n",
    "df[Filter]"
   ]
  },
  {
   "cell_type": "code",
   "execution_count": 42,
   "metadata": {
    "slideshow": {
     "slide_type": "fragment"
    }
   },
   "outputs": [
    {
     "data": {
      "text/html": [
       "<div>\n",
       "<table border=\"1\" class=\"dataframe\">\n",
       "  <thead>\n",
       "    <tr style=\"text-align: right;\">\n",
       "      <th></th>\n",
       "      <th>Cars_per_cap</th>\n",
       "      <th>country</th>\n",
       "      <th>drives_right</th>\n",
       "    </tr>\n",
       "  </thead>\n",
       "  <tbody>\n",
       "    <tr>\n",
       "      <th>US</th>\n",
       "      <td>809</td>\n",
       "      <td>United States</td>\n",
       "      <td>True</td>\n",
       "    </tr>\n",
       "    <tr>\n",
       "      <th>IN</th>\n",
       "      <td>18</td>\n",
       "      <td>India</td>\n",
       "      <td>False</td>\n",
       "    </tr>\n",
       "    <tr>\n",
       "      <th>RU</th>\n",
       "      <td>200</td>\n",
       "      <td>Russia</td>\n",
       "      <td>True</td>\n",
       "    </tr>\n",
       "    <tr>\n",
       "      <th>MOR</th>\n",
       "      <td>70</td>\n",
       "      <td>Morocco</td>\n",
       "      <td>True</td>\n",
       "    </tr>\n",
       "    <tr>\n",
       "      <th>EG</th>\n",
       "      <td>45</td>\n",
       "      <td>Egypt</td>\n",
       "      <td>True</td>\n",
       "    </tr>\n",
       "  </tbody>\n",
       "</table>\n",
       "</div>"
      ],
      "text/plain": [
       "     Cars_per_cap        country drives_right\n",
       "US            809  United States         True\n",
       "IN             18          India        False\n",
       "RU            200         Russia         True\n",
       "MOR            70        Morocco         True\n",
       "EG             45          Egypt         True"
      ]
     },
     "execution_count": 42,
     "metadata": {},
     "output_type": "execute_result"
    }
   ],
   "source": [
    "# A compose filter:\n",
    "Filter=(np.logical_or(df['Cars_per_cap']<200,df['drives_right']==True))\n",
    "df[Filter]"
   ]
  },
  {
   "cell_type": "markdown",
   "metadata": {
    "slideshow": {
     "slide_type": "subslide"
    }
   },
   "source": [
    "### Modify"
   ]
  },
  {
   "cell_type": "code",
   "execution_count": 43,
   "metadata": {
    "slideshow": {
     "slide_type": "fragment"
    }
   },
   "outputs": [
    {
     "data": {
      "text/html": [
       "<div>\n",
       "<table border=\"1\" class=\"dataframe\">\n",
       "  <thead>\n",
       "    <tr style=\"text-align: right;\">\n",
       "      <th></th>\n",
       "      <th>Cars_per_cap</th>\n",
       "      <th>country</th>\n",
       "      <th>drives_right</th>\n",
       "    </tr>\n",
       "  </thead>\n",
       "  <tbody>\n",
       "    <tr>\n",
       "      <th>US</th>\n",
       "      <td>809</td>\n",
       "      <td>United States</td>\n",
       "      <td>True</td>\n",
       "    </tr>\n",
       "    <tr>\n",
       "      <th>AUS</th>\n",
       "      <td>731</td>\n",
       "      <td>Australia</td>\n",
       "      <td>False</td>\n",
       "    </tr>\n",
       "    <tr>\n",
       "      <th>JAP</th>\n",
       "      <td>588</td>\n",
       "      <td>Japan</td>\n",
       "      <td>False</td>\n",
       "    </tr>\n",
       "    <tr>\n",
       "      <th>IN</th>\n",
       "      <td>18</td>\n",
       "      <td>India</td>\n",
       "      <td>False</td>\n",
       "    </tr>\n",
       "    <tr>\n",
       "      <th>RU</th>\n",
       "      <td>200</td>\n",
       "      <td>Russia</td>\n",
       "      <td>True</td>\n",
       "    </tr>\n",
       "    <tr>\n",
       "      <th>MOR</th>\n",
       "      <td>-1</td>\n",
       "      <td>-1</td>\n",
       "      <td>True</td>\n",
       "    </tr>\n",
       "    <tr>\n",
       "      <th>EG</th>\n",
       "      <td>-1</td>\n",
       "      <td>-1</td>\n",
       "      <td>True</td>\n",
       "    </tr>\n",
       "  </tbody>\n",
       "</table>\n",
       "</div>"
      ],
      "text/plain": [
       "     Cars_per_cap        country drives_right\n",
       "US            809  United States         True\n",
       "AUS           731      Australia        False\n",
       "JAP           588          Japan        False\n",
       "IN             18          India        False\n",
       "RU            200         Russia         True\n",
       "MOR            -1             -1         True\n",
       "EG             -1             -1         True"
      ]
     },
     "execution_count": 43,
     "metadata": {},
     "output_type": "execute_result"
    }
   ],
   "source": [
    "Filter=(np.logical_and(df['Cars_per_cap']<200,df['drives_right']==True))\n",
    "df[Filter]=-1\n",
    "df"
   ]
  },
  {
   "cell_type": "markdown",
   "metadata": {
    "slideshow": {
     "slide_type": "subslide"
    }
   },
   "source": [
    "### Delete"
   ]
  },
  {
   "cell_type": "code",
   "execution_count": 45,
   "metadata": {
    "slideshow": {
     "slide_type": "fragment"
    }
   },
   "outputs": [
    {
     "data": {
      "text/html": [
       "<div>\n",
       "<table border=\"1\" class=\"dataframe\">\n",
       "  <thead>\n",
       "    <tr style=\"text-align: right;\">\n",
       "      <th></th>\n",
       "      <th>Cars_per_cap</th>\n",
       "      <th>drives_right</th>\n",
       "    </tr>\n",
       "  </thead>\n",
       "  <tbody>\n",
       "    <tr>\n",
       "      <th>US</th>\n",
       "      <td>809</td>\n",
       "      <td>True</td>\n",
       "    </tr>\n",
       "    <tr>\n",
       "      <th>AUS</th>\n",
       "      <td>731</td>\n",
       "      <td>False</td>\n",
       "    </tr>\n",
       "    <tr>\n",
       "      <th>JAP</th>\n",
       "      <td>588</td>\n",
       "      <td>False</td>\n",
       "    </tr>\n",
       "    <tr>\n",
       "      <th>IN</th>\n",
       "      <td>18</td>\n",
       "      <td>False</td>\n",
       "    </tr>\n",
       "    <tr>\n",
       "      <th>RU</th>\n",
       "      <td>200</td>\n",
       "      <td>True</td>\n",
       "    </tr>\n",
       "    <tr>\n",
       "      <th>MOR</th>\n",
       "      <td>-1</td>\n",
       "      <td>True</td>\n",
       "    </tr>\n",
       "    <tr>\n",
       "      <th>EG</th>\n",
       "      <td>-1</td>\n",
       "      <td>True</td>\n",
       "    </tr>\n",
       "  </tbody>\n",
       "</table>\n",
       "</div>"
      ],
      "text/plain": [
       "     Cars_per_cap drives_right\n",
       "US            809         True\n",
       "AUS           731        False\n",
       "JAP           588        False\n",
       "IN             18        False\n",
       "RU            200         True\n",
       "MOR            -1         True\n",
       "EG             -1         True"
      ]
     },
     "execution_count": 45,
     "metadata": {},
     "output_type": "execute_result"
    }
   ],
   "source": [
    "if 'country' in df.columns:\n",
    "    del(df['country'])\n",
    "df"
   ]
  },
  {
   "cell_type": "markdown",
   "metadata": {
    "slideshow": {
     "slide_type": "slide"
    }
   },
   "source": [
    "## Iterators"
   ]
  },
  {
   "cell_type": "markdown",
   "metadata": {
    "slideshow": {
     "slide_type": "fragment"
    }
   },
   "source": [
    "Some clasical iterator run in python as while and for but time is short"
   ]
  },
  {
   "cell_type": "markdown",
   "metadata": {
    "slideshow": {
     "slide_type": "subslide"
    }
   },
   "source": [
    "### A two index for"
   ]
  },
  {
   "cell_type": "code",
   "execution_count": 46,
   "metadata": {
    "slideshow": {
     "slide_type": "fragment"
    }
   },
   "outputs": [
    {
     "name": "stdout",
     "output_type": "stream",
     "text": [
      "hallway is 11.25 m²\n",
      "kitchen is 18.0 m²\n",
      "living room is 20.0 m²\n",
      "bedroom is 10.75 m²\n",
      "bathroom is 9.5 m²\n"
     ]
    }
   ],
   "source": [
    "house = [[\"hallway\", 11.25], \n",
    "         [\"kitchen\", 18.0], \n",
    "         [\"living room\", 20.0], \n",
    "         [\"bedroom\", 10.75], \n",
    "         [\"bathroom\", 9.50]]\n",
    "for name,area in house:\n",
    "    print('{} is {} m²'.format(name,area))"
   ]
  },
  {
   "cell_type": "markdown",
   "metadata": {
    "slideshow": {
     "slide_type": "fragment"
    }
   },
   "source": [
    "### Iterating in a Series "
   ]
  },
  {
   "cell_type": "code",
   "execution_count": 49,
   "metadata": {
    "code_folding": [],
    "slideshow": {
     "slide_type": "fragment"
    }
   },
   "outputs": [
    {
     "name": "stdout",
     "output_type": "stream",
     "text": [
      "US\n",
      "[809 'United States' True]\n",
      "AUS\n",
      "[731 'Australia' False]\n",
      "JAP\n",
      "[588 'Japan' False]\n",
      "IN\n",
      "[18 'India' False]\n",
      "RU\n",
      "[200 'Russia' True]\n",
      "MOR\n",
      "[70 'Morocco' True]\n",
      "EG\n",
      "[45 'Egypt' True]\n"
     ]
    }
   ],
   "source": [
    "import pandas as pd\n",
    "cars = pd.read_csv('cars.csv')\n",
    "cars.set_index(pd.Series(['US','AUS','JAP','IN','RU','MOR','EG']),inplace=True)\n",
    "# Adapt for loop\n",
    "for lab, row in cars.iterrows() :\n",
    "    print(lab)\n",
    "    print(row.values)"
   ]
  },
  {
   "cell_type": "markdown",
   "metadata": {
    "slideshow": {
     "slide_type": "skip"
    }
   },
   "source": [
    "Generating beamer:"
   ]
  },
  {
   "cell_type": "code",
   "execution_count": null,
   "metadata": {
    "slideshow": {
     "slide_type": "skip"
    }
   },
   "outputs": [
    {
     "name": "stdout",
     "output_type": "stream",
     "text": [
      "[NbConvertApp] Converting notebook Intermediate Python for Data Science 1.ipynb to slides\n",
      "[NbConvertApp] Writing 492842 bytes to Intermediate Python for Data Science 1.slides.html\n",
      "[NbConvertApp] Redirecting reveal.js requests to https://cdnjs.cloudflare.com/ajax/libs/reveal.js/3.1.0\n",
      "Serving your slides at http://127.0.0.1:8000/Intermediate Python for Data Science 1.slides.html\n",
      "Use Control-C to stop this server\n",
      "Created new window in existing browser session.\n",
      "WARNING:tornado.access:404 GET /custom.css (127.0.0.1) 0.99ms\n",
      "WARNING:tornado.access:404 GET /custom.css (127.0.0.1) 0.67ms\n"
     ]
    }
   ],
   "source": [
    "!jupyter-nbconvert --to slides \"02 - Intermediate Python for Data Science.ipynb\" --post serve"
   ]
  },
  {
   "cell_type": "code",
   "execution_count": 6,
   "metadata": {
    "slideshow": {
     "slide_type": "skip"
    }
   },
   "outputs": [
    {
     "data": {
      "image/svg+xml": [
       "<svg height=\"100\" width=\"100\">\n",
       "  <circle cx=\"50\" cy=\"50\" fill=\"yellow\" r=\"40\" stroke=\"green\" stroke-width=\"4\"/>\n",
       "</svg>"
      ],
      "text/plain": [
       "<IPython.core.display.SVG object>"
      ]
     },
     "metadata": {},
     "output_type": "display_data"
    }
   ],
   "source": [
    "%%svg\n",
    "<svg width=\"100\" height=\"100\">\n",
    "  <circle cx=\"50\" cy=\"50\" r=\"40\" stroke=\"green\" stroke-width=\"4\" fill=\"yellow\" />\n",
    "</svg>"
   ]
  }
 ],
 "metadata": {
  "kernelspec": {
   "display_name": "Python 3",
   "language": "python",
   "name": "python3"
  },
  "language_info": {
   "codemirror_mode": {
    "name": "ipython",
    "version": 3
   },
   "file_extension": ".py",
   "mimetype": "text/x-python",
   "name": "python",
   "nbconvert_exporter": "python",
   "pygments_lexer": "ipython3",
   "version": "3.5.3"
  },
  "toc": {
   "colors": {
    "hover_highlight": "#DAA520",
    "running_highlight": "#FF0000",
    "selected_highlight": "#FFD700"
   },
   "moveMenuLeft": true,
   "nav_menu": {
    "height": "372px",
    "width": "252px"
   },
   "navigate_menu": true,
   "number_sections": true,
   "sideBar": true,
   "threshold": 4,
   "toc_cell": false,
   "toc_section_display": "block",
   "toc_window_display": false,
   "widenNotebook": false
  }
 },
 "nbformat": 4,
 "nbformat_minor": 2
}
